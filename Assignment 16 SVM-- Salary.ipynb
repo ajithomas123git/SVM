{
 "cells": [
  {
   "cell_type": "code",
   "execution_count": 1,
   "id": "118f1d38",
   "metadata": {
    "ExecuteTime": {
     "end_time": "2022-09-14T03:33:15.118958Z",
     "start_time": "2022-09-14T03:33:12.903774Z"
    }
   },
   "outputs": [],
   "source": [
    "# SVM Classification\n",
    "import pandas as pd\n",
    "import numpy as np\n",
    "\n",
    "from sklearn import svm\n",
    "from sklearn.svm import SVC\n",
    "from sklearn.model_selection import GridSearchCV\n",
    "from sklearn.metrics import classification_report\n",
    "import seaborn as sns\n",
    "\n",
    "from sklearn.metrics import accuracy_score, confusion_matrix\n",
    "from sklearn.model_selection import train_test_split, cross_val_score\n",
    "\n",
    "from matplotlib.colors import ListedColormap\n",
    "import matplotlib.pyplot as plt\n",
    "import warnings\n",
    "warnings.filterwarnings('ignore')"
   ]
  },
  {
   "cell_type": "code",
   "execution_count": 2,
   "id": "2346aafb",
   "metadata": {
    "ExecuteTime": {
     "end_time": "2022-09-14T03:33:17.690177Z",
     "start_time": "2022-09-14T03:33:17.534543Z"
    }
   },
   "outputs": [],
   "source": [
    "sal_test=pd.read_csv(\"SalaryData_Test(1).csv\",index_col=False)\n",
    "\n",
    "sal_train=pd.read_csv(\"SalaryData_Train(1).csv\",index_col=False)\n"
   ]
  },
  {
   "cell_type": "code",
   "execution_count": 3,
   "id": "4aea00a2",
   "metadata": {
    "ExecuteTime": {
     "end_time": "2022-09-14T03:33:20.441500Z",
     "start_time": "2022-09-14T03:33:20.378252Z"
    }
   },
   "outputs": [
    {
     "data": {
      "text/html": [
       "<div>\n",
       "<style scoped>\n",
       "    .dataframe tbody tr th:only-of-type {\n",
       "        vertical-align: middle;\n",
       "    }\n",
       "\n",
       "    .dataframe tbody tr th {\n",
       "        vertical-align: top;\n",
       "    }\n",
       "\n",
       "    .dataframe thead th {\n",
       "        text-align: right;\n",
       "    }\n",
       "</style>\n",
       "<table border=\"1\" class=\"dataframe\">\n",
       "  <thead>\n",
       "    <tr style=\"text-align: right;\">\n",
       "      <th></th>\n",
       "      <th>age</th>\n",
       "      <th>workclass</th>\n",
       "      <th>education</th>\n",
       "      <th>educationno</th>\n",
       "      <th>maritalstatus</th>\n",
       "      <th>occupation</th>\n",
       "      <th>relationship</th>\n",
       "      <th>race</th>\n",
       "      <th>sex</th>\n",
       "      <th>capitalgain</th>\n",
       "      <th>capitalloss</th>\n",
       "      <th>hoursperweek</th>\n",
       "      <th>native</th>\n",
       "      <th>Salary</th>\n",
       "    </tr>\n",
       "  </thead>\n",
       "  <tbody>\n",
       "    <tr>\n",
       "      <th>0</th>\n",
       "      <td>39</td>\n",
       "      <td>State-gov</td>\n",
       "      <td>Bachelors</td>\n",
       "      <td>13</td>\n",
       "      <td>Never-married</td>\n",
       "      <td>Adm-clerical</td>\n",
       "      <td>Not-in-family</td>\n",
       "      <td>White</td>\n",
       "      <td>Male</td>\n",
       "      <td>2174</td>\n",
       "      <td>0</td>\n",
       "      <td>40</td>\n",
       "      <td>United-States</td>\n",
       "      <td>&lt;=50K</td>\n",
       "    </tr>\n",
       "    <tr>\n",
       "      <th>1</th>\n",
       "      <td>50</td>\n",
       "      <td>Self-emp-not-inc</td>\n",
       "      <td>Bachelors</td>\n",
       "      <td>13</td>\n",
       "      <td>Married-civ-spouse</td>\n",
       "      <td>Exec-managerial</td>\n",
       "      <td>Husband</td>\n",
       "      <td>White</td>\n",
       "      <td>Male</td>\n",
       "      <td>0</td>\n",
       "      <td>0</td>\n",
       "      <td>13</td>\n",
       "      <td>United-States</td>\n",
       "      <td>&lt;=50K</td>\n",
       "    </tr>\n",
       "    <tr>\n",
       "      <th>2</th>\n",
       "      <td>38</td>\n",
       "      <td>Private</td>\n",
       "      <td>HS-grad</td>\n",
       "      <td>9</td>\n",
       "      <td>Divorced</td>\n",
       "      <td>Handlers-cleaners</td>\n",
       "      <td>Not-in-family</td>\n",
       "      <td>White</td>\n",
       "      <td>Male</td>\n",
       "      <td>0</td>\n",
       "      <td>0</td>\n",
       "      <td>40</td>\n",
       "      <td>United-States</td>\n",
       "      <td>&lt;=50K</td>\n",
       "    </tr>\n",
       "    <tr>\n",
       "      <th>3</th>\n",
       "      <td>53</td>\n",
       "      <td>Private</td>\n",
       "      <td>11th</td>\n",
       "      <td>7</td>\n",
       "      <td>Married-civ-spouse</td>\n",
       "      <td>Handlers-cleaners</td>\n",
       "      <td>Husband</td>\n",
       "      <td>Black</td>\n",
       "      <td>Male</td>\n",
       "      <td>0</td>\n",
       "      <td>0</td>\n",
       "      <td>40</td>\n",
       "      <td>United-States</td>\n",
       "      <td>&lt;=50K</td>\n",
       "    </tr>\n",
       "    <tr>\n",
       "      <th>4</th>\n",
       "      <td>28</td>\n",
       "      <td>Private</td>\n",
       "      <td>Bachelors</td>\n",
       "      <td>13</td>\n",
       "      <td>Married-civ-spouse</td>\n",
       "      <td>Prof-specialty</td>\n",
       "      <td>Wife</td>\n",
       "      <td>Black</td>\n",
       "      <td>Female</td>\n",
       "      <td>0</td>\n",
       "      <td>0</td>\n",
       "      <td>40</td>\n",
       "      <td>Cuba</td>\n",
       "      <td>&lt;=50K</td>\n",
       "    </tr>\n",
       "    <tr>\n",
       "      <th>...</th>\n",
       "      <td>...</td>\n",
       "      <td>...</td>\n",
       "      <td>...</td>\n",
       "      <td>...</td>\n",
       "      <td>...</td>\n",
       "      <td>...</td>\n",
       "      <td>...</td>\n",
       "      <td>...</td>\n",
       "      <td>...</td>\n",
       "      <td>...</td>\n",
       "      <td>...</td>\n",
       "      <td>...</td>\n",
       "      <td>...</td>\n",
       "      <td>...</td>\n",
       "    </tr>\n",
       "    <tr>\n",
       "      <th>15055</th>\n",
       "      <td>33</td>\n",
       "      <td>Private</td>\n",
       "      <td>Bachelors</td>\n",
       "      <td>13</td>\n",
       "      <td>Never-married</td>\n",
       "      <td>Prof-specialty</td>\n",
       "      <td>Own-child</td>\n",
       "      <td>White</td>\n",
       "      <td>Male</td>\n",
       "      <td>0</td>\n",
       "      <td>0</td>\n",
       "      <td>40</td>\n",
       "      <td>United-States</td>\n",
       "      <td>&lt;=50K</td>\n",
       "    </tr>\n",
       "    <tr>\n",
       "      <th>15056</th>\n",
       "      <td>39</td>\n",
       "      <td>Private</td>\n",
       "      <td>Bachelors</td>\n",
       "      <td>13</td>\n",
       "      <td>Divorced</td>\n",
       "      <td>Prof-specialty</td>\n",
       "      <td>Not-in-family</td>\n",
       "      <td>White</td>\n",
       "      <td>Female</td>\n",
       "      <td>0</td>\n",
       "      <td>0</td>\n",
       "      <td>36</td>\n",
       "      <td>United-States</td>\n",
       "      <td>&lt;=50K</td>\n",
       "    </tr>\n",
       "    <tr>\n",
       "      <th>15057</th>\n",
       "      <td>38</td>\n",
       "      <td>Private</td>\n",
       "      <td>Bachelors</td>\n",
       "      <td>13</td>\n",
       "      <td>Married-civ-spouse</td>\n",
       "      <td>Prof-specialty</td>\n",
       "      <td>Husband</td>\n",
       "      <td>White</td>\n",
       "      <td>Male</td>\n",
       "      <td>0</td>\n",
       "      <td>0</td>\n",
       "      <td>50</td>\n",
       "      <td>United-States</td>\n",
       "      <td>&lt;=50K</td>\n",
       "    </tr>\n",
       "    <tr>\n",
       "      <th>15058</th>\n",
       "      <td>44</td>\n",
       "      <td>Private</td>\n",
       "      <td>Bachelors</td>\n",
       "      <td>13</td>\n",
       "      <td>Divorced</td>\n",
       "      <td>Adm-clerical</td>\n",
       "      <td>Own-child</td>\n",
       "      <td>Asian-Pac-Islander</td>\n",
       "      <td>Male</td>\n",
       "      <td>5455</td>\n",
       "      <td>0</td>\n",
       "      <td>40</td>\n",
       "      <td>United-States</td>\n",
       "      <td>&lt;=50K</td>\n",
       "    </tr>\n",
       "    <tr>\n",
       "      <th>15059</th>\n",
       "      <td>35</td>\n",
       "      <td>Self-emp-inc</td>\n",
       "      <td>Bachelors</td>\n",
       "      <td>13</td>\n",
       "      <td>Married-civ-spouse</td>\n",
       "      <td>Exec-managerial</td>\n",
       "      <td>Husband</td>\n",
       "      <td>White</td>\n",
       "      <td>Male</td>\n",
       "      <td>0</td>\n",
       "      <td>0</td>\n",
       "      <td>60</td>\n",
       "      <td>United-States</td>\n",
       "      <td>&gt;50K</td>\n",
       "    </tr>\n",
       "  </tbody>\n",
       "</table>\n",
       "<p>45221 rows × 14 columns</p>\n",
       "</div>"
      ],
      "text/plain": [
       "       age          workclass   education  educationno        maritalstatus  \\\n",
       "0       39          State-gov   Bachelors           13        Never-married   \n",
       "1       50   Self-emp-not-inc   Bachelors           13   Married-civ-spouse   \n",
       "2       38            Private     HS-grad            9             Divorced   \n",
       "3       53            Private        11th            7   Married-civ-spouse   \n",
       "4       28            Private   Bachelors           13   Married-civ-spouse   \n",
       "...    ...                ...         ...          ...                  ...   \n",
       "15055   33            Private   Bachelors           13        Never-married   \n",
       "15056   39            Private   Bachelors           13             Divorced   \n",
       "15057   38            Private   Bachelors           13   Married-civ-spouse   \n",
       "15058   44            Private   Bachelors           13             Divorced   \n",
       "15059   35       Self-emp-inc   Bachelors           13   Married-civ-spouse   \n",
       "\n",
       "               occupation    relationship                 race      sex  \\\n",
       "0            Adm-clerical   Not-in-family                White     Male   \n",
       "1         Exec-managerial         Husband                White     Male   \n",
       "2       Handlers-cleaners   Not-in-family                White     Male   \n",
       "3       Handlers-cleaners         Husband                Black     Male   \n",
       "4          Prof-specialty            Wife                Black   Female   \n",
       "...                   ...             ...                  ...      ...   \n",
       "15055      Prof-specialty       Own-child                White     Male   \n",
       "15056      Prof-specialty   Not-in-family                White   Female   \n",
       "15057      Prof-specialty         Husband                White     Male   \n",
       "15058        Adm-clerical       Own-child   Asian-Pac-Islander     Male   \n",
       "15059     Exec-managerial         Husband                White     Male   \n",
       "\n",
       "       capitalgain  capitalloss  hoursperweek          native  Salary  \n",
       "0             2174            0            40   United-States   <=50K  \n",
       "1                0            0            13   United-States   <=50K  \n",
       "2                0            0            40   United-States   <=50K  \n",
       "3                0            0            40   United-States   <=50K  \n",
       "4                0            0            40            Cuba   <=50K  \n",
       "...            ...          ...           ...             ...     ...  \n",
       "15055            0            0            40   United-States   <=50K  \n",
       "15056            0            0            36   United-States   <=50K  \n",
       "15057            0            0            50   United-States   <=50K  \n",
       "15058         5455            0            40   United-States   <=50K  \n",
       "15059            0            0            60   United-States    >50K  \n",
       "\n",
       "[45221 rows x 14 columns]"
      ]
     },
     "metadata": {},
     "output_type": "display_data"
    }
   ],
   "source": [
    "frames = [sal_train,sal_test]\n",
    "  \n",
    "combinedframes = pd.concat(frames)\n",
    "display(combinedframes)"
   ]
  },
  {
   "cell_type": "code",
   "execution_count": 4,
   "id": "6191b426",
   "metadata": {
    "ExecuteTime": {
     "end_time": "2022-09-14T03:33:27.281684Z",
     "start_time": "2022-09-14T03:33:27.222755Z"
    }
   },
   "outputs": [
    {
     "name": "stdout",
     "output_type": "stream",
     "text": [
      "<class 'pandas.core.frame.DataFrame'>\n",
      "Int64Index: 45221 entries, 0 to 15059\n",
      "Data columns (total 14 columns):\n",
      " #   Column         Non-Null Count  Dtype \n",
      "---  ------         --------------  ----- \n",
      " 0   age            45221 non-null  int64 \n",
      " 1   workclass      45221 non-null  object\n",
      " 2   education      45221 non-null  object\n",
      " 3   educationno    45221 non-null  int64 \n",
      " 4   maritalstatus  45221 non-null  object\n",
      " 5   occupation     45221 non-null  object\n",
      " 6   relationship   45221 non-null  object\n",
      " 7   race           45221 non-null  object\n",
      " 8   sex            45221 non-null  object\n",
      " 9   capitalgain    45221 non-null  int64 \n",
      " 10  capitalloss    45221 non-null  int64 \n",
      " 11  hoursperweek   45221 non-null  int64 \n",
      " 12  native         45221 non-null  object\n",
      " 13  Salary         45221 non-null  object\n",
      "dtypes: int64(5), object(9)\n",
      "memory usage: 5.2+ MB\n"
     ]
    }
   ],
   "source": [
    "combinedframes.info()"
   ]
  },
  {
   "cell_type": "code",
   "execution_count": 5,
   "id": "ff0ad681",
   "metadata": {
    "ExecuteTime": {
     "end_time": "2022-09-14T03:33:31.500339Z",
     "start_time": "2022-09-14T03:33:31.459202Z"
    }
   },
   "outputs": [
    {
     "data": {
      "text/html": [
       "<div>\n",
       "<style scoped>\n",
       "    .dataframe tbody tr th:only-of-type {\n",
       "        vertical-align: middle;\n",
       "    }\n",
       "\n",
       "    .dataframe tbody tr th {\n",
       "        vertical-align: top;\n",
       "    }\n",
       "\n",
       "    .dataframe thead th {\n",
       "        text-align: right;\n",
       "    }\n",
       "</style>\n",
       "<table border=\"1\" class=\"dataframe\">\n",
       "  <thead>\n",
       "    <tr style=\"text-align: right;\">\n",
       "      <th></th>\n",
       "      <th>index</th>\n",
       "      <th>age</th>\n",
       "      <th>workclass</th>\n",
       "      <th>education</th>\n",
       "      <th>educationno</th>\n",
       "      <th>maritalstatus</th>\n",
       "      <th>occupation</th>\n",
       "      <th>relationship</th>\n",
       "      <th>race</th>\n",
       "      <th>sex</th>\n",
       "      <th>capitalgain</th>\n",
       "      <th>capitalloss</th>\n",
       "      <th>hoursperweek</th>\n",
       "      <th>native</th>\n",
       "      <th>Salary</th>\n",
       "    </tr>\n",
       "  </thead>\n",
       "  <tbody>\n",
       "    <tr>\n",
       "      <th>0</th>\n",
       "      <td>10246</td>\n",
       "      <td>49</td>\n",
       "      <td>Local-gov</td>\n",
       "      <td>Assoc-acdm</td>\n",
       "      <td>12</td>\n",
       "      <td>Married-civ-spouse</td>\n",
       "      <td>Adm-clerical</td>\n",
       "      <td>Husband</td>\n",
       "      <td>White</td>\n",
       "      <td>Male</td>\n",
       "      <td>0</td>\n",
       "      <td>0</td>\n",
       "      <td>40</td>\n",
       "      <td>United-States</td>\n",
       "      <td>&lt;=50K</td>\n",
       "    </tr>\n",
       "    <tr>\n",
       "      <th>1</th>\n",
       "      <td>9865</td>\n",
       "      <td>40</td>\n",
       "      <td>Private</td>\n",
       "      <td>Masters</td>\n",
       "      <td>14</td>\n",
       "      <td>Married-civ-spouse</td>\n",
       "      <td>Exec-managerial</td>\n",
       "      <td>Husband</td>\n",
       "      <td>White</td>\n",
       "      <td>Male</td>\n",
       "      <td>15024</td>\n",
       "      <td>0</td>\n",
       "      <td>50</td>\n",
       "      <td>United-States</td>\n",
       "      <td>&gt;50K</td>\n",
       "    </tr>\n",
       "    <tr>\n",
       "      <th>2</th>\n",
       "      <td>6569</td>\n",
       "      <td>25</td>\n",
       "      <td>Private</td>\n",
       "      <td>Assoc-acdm</td>\n",
       "      <td>12</td>\n",
       "      <td>Never-married</td>\n",
       "      <td>Sales</td>\n",
       "      <td>Not-in-family</td>\n",
       "      <td>White</td>\n",
       "      <td>Male</td>\n",
       "      <td>0</td>\n",
       "      <td>0</td>\n",
       "      <td>48</td>\n",
       "      <td>United-States</td>\n",
       "      <td>&lt;=50K</td>\n",
       "    </tr>\n",
       "    <tr>\n",
       "      <th>3</th>\n",
       "      <td>7887</td>\n",
       "      <td>19</td>\n",
       "      <td>Private</td>\n",
       "      <td>Some-college</td>\n",
       "      <td>10</td>\n",
       "      <td>Married-spouse-absent</td>\n",
       "      <td>Sales</td>\n",
       "      <td>Own-child</td>\n",
       "      <td>White</td>\n",
       "      <td>Female</td>\n",
       "      <td>0</td>\n",
       "      <td>1602</td>\n",
       "      <td>40</td>\n",
       "      <td>United-States</td>\n",
       "      <td>&lt;=50K</td>\n",
       "    </tr>\n",
       "    <tr>\n",
       "      <th>4</th>\n",
       "      <td>14236</td>\n",
       "      <td>29</td>\n",
       "      <td>Private</td>\n",
       "      <td>HS-grad</td>\n",
       "      <td>9</td>\n",
       "      <td>Never-married</td>\n",
       "      <td>Exec-managerial</td>\n",
       "      <td>Not-in-family</td>\n",
       "      <td>White</td>\n",
       "      <td>Male</td>\n",
       "      <td>0</td>\n",
       "      <td>0</td>\n",
       "      <td>50</td>\n",
       "      <td>Mexico</td>\n",
       "      <td>&lt;=50K</td>\n",
       "    </tr>\n",
       "    <tr>\n",
       "      <th>...</th>\n",
       "      <td>...</td>\n",
       "      <td>...</td>\n",
       "      <td>...</td>\n",
       "      <td>...</td>\n",
       "      <td>...</td>\n",
       "      <td>...</td>\n",
       "      <td>...</td>\n",
       "      <td>...</td>\n",
       "      <td>...</td>\n",
       "      <td>...</td>\n",
       "      <td>...</td>\n",
       "      <td>...</td>\n",
       "      <td>...</td>\n",
       "      <td>...</td>\n",
       "      <td>...</td>\n",
       "    </tr>\n",
       "    <tr>\n",
       "      <th>4517</th>\n",
       "      <td>19394</td>\n",
       "      <td>29</td>\n",
       "      <td>Private</td>\n",
       "      <td>Some-college</td>\n",
       "      <td>10</td>\n",
       "      <td>Never-married</td>\n",
       "      <td>Other-service</td>\n",
       "      <td>Not-in-family</td>\n",
       "      <td>Black</td>\n",
       "      <td>Female</td>\n",
       "      <td>0</td>\n",
       "      <td>0</td>\n",
       "      <td>30</td>\n",
       "      <td>Jamaica</td>\n",
       "      <td>&lt;=50K</td>\n",
       "    </tr>\n",
       "    <tr>\n",
       "      <th>4518</th>\n",
       "      <td>15068</td>\n",
       "      <td>41</td>\n",
       "      <td>Private</td>\n",
       "      <td>Assoc-voc</td>\n",
       "      <td>11</td>\n",
       "      <td>Married-civ-spouse</td>\n",
       "      <td>Exec-managerial</td>\n",
       "      <td>Husband</td>\n",
       "      <td>White</td>\n",
       "      <td>Male</td>\n",
       "      <td>0</td>\n",
       "      <td>0</td>\n",
       "      <td>40</td>\n",
       "      <td>United-States</td>\n",
       "      <td>&lt;=50K</td>\n",
       "    </tr>\n",
       "    <tr>\n",
       "      <th>4519</th>\n",
       "      <td>3356</td>\n",
       "      <td>43</td>\n",
       "      <td>Private</td>\n",
       "      <td>HS-grad</td>\n",
       "      <td>9</td>\n",
       "      <td>Married-civ-spouse</td>\n",
       "      <td>Machine-op-inspct</td>\n",
       "      <td>Husband</td>\n",
       "      <td>White</td>\n",
       "      <td>Male</td>\n",
       "      <td>0</td>\n",
       "      <td>0</td>\n",
       "      <td>44</td>\n",
       "      <td>Mexico</td>\n",
       "      <td>&lt;=50K</td>\n",
       "    </tr>\n",
       "    <tr>\n",
       "      <th>4520</th>\n",
       "      <td>3532</td>\n",
       "      <td>37</td>\n",
       "      <td>Private</td>\n",
       "      <td>Bachelors</td>\n",
       "      <td>13</td>\n",
       "      <td>Married-civ-spouse</td>\n",
       "      <td>Sales</td>\n",
       "      <td>Husband</td>\n",
       "      <td>White</td>\n",
       "      <td>Male</td>\n",
       "      <td>0</td>\n",
       "      <td>0</td>\n",
       "      <td>50</td>\n",
       "      <td>United-States</td>\n",
       "      <td>&lt;=50K</td>\n",
       "    </tr>\n",
       "    <tr>\n",
       "      <th>4521</th>\n",
       "      <td>20177</td>\n",
       "      <td>25</td>\n",
       "      <td>Private</td>\n",
       "      <td>Some-college</td>\n",
       "      <td>10</td>\n",
       "      <td>Never-married</td>\n",
       "      <td>Adm-clerical</td>\n",
       "      <td>Own-child</td>\n",
       "      <td>White</td>\n",
       "      <td>Female</td>\n",
       "      <td>0</td>\n",
       "      <td>0</td>\n",
       "      <td>40</td>\n",
       "      <td>United-States</td>\n",
       "      <td>&lt;=50K</td>\n",
       "    </tr>\n",
       "  </tbody>\n",
       "</table>\n",
       "<p>4522 rows × 15 columns</p>\n",
       "</div>"
      ],
      "text/plain": [
       "      index  age   workclass      education  educationno  \\\n",
       "0     10246   49   Local-gov     Assoc-acdm           12   \n",
       "1      9865   40     Private        Masters           14   \n",
       "2      6569   25     Private     Assoc-acdm           12   \n",
       "3      7887   19     Private   Some-college           10   \n",
       "4     14236   29     Private        HS-grad            9   \n",
       "...     ...  ...         ...            ...          ...   \n",
       "4517  19394   29     Private   Some-college           10   \n",
       "4518  15068   41     Private      Assoc-voc           11   \n",
       "4519   3356   43     Private        HS-grad            9   \n",
       "4520   3532   37     Private      Bachelors           13   \n",
       "4521  20177   25     Private   Some-college           10   \n",
       "\n",
       "               maritalstatus          occupation    relationship    race  \\\n",
       "0         Married-civ-spouse        Adm-clerical         Husband   White   \n",
       "1         Married-civ-spouse     Exec-managerial         Husband   White   \n",
       "2              Never-married               Sales   Not-in-family   White   \n",
       "3      Married-spouse-absent               Sales       Own-child   White   \n",
       "4              Never-married     Exec-managerial   Not-in-family   White   \n",
       "...                      ...                 ...             ...     ...   \n",
       "4517           Never-married       Other-service   Not-in-family   Black   \n",
       "4518      Married-civ-spouse     Exec-managerial         Husband   White   \n",
       "4519      Married-civ-spouse   Machine-op-inspct         Husband   White   \n",
       "4520      Married-civ-spouse               Sales         Husband   White   \n",
       "4521           Never-married        Adm-clerical       Own-child   White   \n",
       "\n",
       "          sex  capitalgain  capitalloss  hoursperweek          native  Salary  \n",
       "0        Male            0            0            40   United-States   <=50K  \n",
       "1        Male        15024            0            50   United-States    >50K  \n",
       "2        Male            0            0            48   United-States   <=50K  \n",
       "3      Female            0         1602            40   United-States   <=50K  \n",
       "4        Male            0            0            50          Mexico   <=50K  \n",
       "...       ...          ...          ...           ...             ...     ...  \n",
       "4517   Female            0            0            30         Jamaica   <=50K  \n",
       "4518     Male            0            0            40   United-States   <=50K  \n",
       "4519     Male            0            0            44          Mexico   <=50K  \n",
       "4520     Male            0            0            50   United-States   <=50K  \n",
       "4521   Female            0            0            40   United-States   <=50K  \n",
       "\n",
       "[4522 rows x 15 columns]"
      ]
     },
     "execution_count": 5,
     "metadata": {},
     "output_type": "execute_result"
    }
   ],
   "source": [
    "#Reducing the data by taking the sample from the complete data\n",
    "df_split = combinedframes.sample(frac=0.1,random_state=200)\n",
    "df_split.reset_index()"
   ]
  },
  {
   "cell_type": "code",
   "execution_count": null,
   "id": "32e32d77",
   "metadata": {
    "ExecuteTime": {
     "end_time": "2022-09-14T03:29:23.419796Z",
     "start_time": "2022-09-14T03:29:23.387688Z"
    }
   },
   "outputs": [],
   "source": [
    "#sal_test = sal_test.assign(Index=range(len(sal_test))).set_index('Index')"
   ]
  },
  {
   "cell_type": "code",
   "execution_count": 6,
   "id": "a636821a",
   "metadata": {
    "ExecuteTime": {
     "end_time": "2022-09-14T03:33:38.833388Z",
     "start_time": "2022-09-14T03:33:38.797373Z"
    }
   },
   "outputs": [
    {
     "data": {
      "text/html": [
       "<div>\n",
       "<style scoped>\n",
       "    .dataframe tbody tr th:only-of-type {\n",
       "        vertical-align: middle;\n",
       "    }\n",
       "\n",
       "    .dataframe tbody tr th {\n",
       "        vertical-align: top;\n",
       "    }\n",
       "\n",
       "    .dataframe thead th {\n",
       "        text-align: right;\n",
       "    }\n",
       "</style>\n",
       "<table border=\"1\" class=\"dataframe\">\n",
       "  <thead>\n",
       "    <tr style=\"text-align: right;\">\n",
       "      <th></th>\n",
       "      <th>age</th>\n",
       "      <th>workclass</th>\n",
       "      <th>educationno</th>\n",
       "      <th>maritalstatus</th>\n",
       "      <th>occupation</th>\n",
       "      <th>relationship</th>\n",
       "      <th>race</th>\n",
       "      <th>sex</th>\n",
       "      <th>capitalgain</th>\n",
       "      <th>capitalloss</th>\n",
       "      <th>hoursperweek</th>\n",
       "      <th>native</th>\n",
       "      <th>Salary</th>\n",
       "    </tr>\n",
       "  </thead>\n",
       "  <tbody>\n",
       "    <tr>\n",
       "      <th>10246</th>\n",
       "      <td>49</td>\n",
       "      <td>Local-gov</td>\n",
       "      <td>12</td>\n",
       "      <td>Married-civ-spouse</td>\n",
       "      <td>Adm-clerical</td>\n",
       "      <td>Husband</td>\n",
       "      <td>White</td>\n",
       "      <td>Male</td>\n",
       "      <td>0</td>\n",
       "      <td>0</td>\n",
       "      <td>40</td>\n",
       "      <td>United-States</td>\n",
       "      <td>&lt;=50K</td>\n",
       "    </tr>\n",
       "    <tr>\n",
       "      <th>9865</th>\n",
       "      <td>40</td>\n",
       "      <td>Private</td>\n",
       "      <td>14</td>\n",
       "      <td>Married-civ-spouse</td>\n",
       "      <td>Exec-managerial</td>\n",
       "      <td>Husband</td>\n",
       "      <td>White</td>\n",
       "      <td>Male</td>\n",
       "      <td>15024</td>\n",
       "      <td>0</td>\n",
       "      <td>50</td>\n",
       "      <td>United-States</td>\n",
       "      <td>&gt;50K</td>\n",
       "    </tr>\n",
       "    <tr>\n",
       "      <th>6569</th>\n",
       "      <td>25</td>\n",
       "      <td>Private</td>\n",
       "      <td>12</td>\n",
       "      <td>Never-married</td>\n",
       "      <td>Sales</td>\n",
       "      <td>Not-in-family</td>\n",
       "      <td>White</td>\n",
       "      <td>Male</td>\n",
       "      <td>0</td>\n",
       "      <td>0</td>\n",
       "      <td>48</td>\n",
       "      <td>United-States</td>\n",
       "      <td>&lt;=50K</td>\n",
       "    </tr>\n",
       "    <tr>\n",
       "      <th>7887</th>\n",
       "      <td>19</td>\n",
       "      <td>Private</td>\n",
       "      <td>10</td>\n",
       "      <td>Married-spouse-absent</td>\n",
       "      <td>Sales</td>\n",
       "      <td>Own-child</td>\n",
       "      <td>White</td>\n",
       "      <td>Female</td>\n",
       "      <td>0</td>\n",
       "      <td>1602</td>\n",
       "      <td>40</td>\n",
       "      <td>United-States</td>\n",
       "      <td>&lt;=50K</td>\n",
       "    </tr>\n",
       "    <tr>\n",
       "      <th>14236</th>\n",
       "      <td>29</td>\n",
       "      <td>Private</td>\n",
       "      <td>9</td>\n",
       "      <td>Never-married</td>\n",
       "      <td>Exec-managerial</td>\n",
       "      <td>Not-in-family</td>\n",
       "      <td>White</td>\n",
       "      <td>Male</td>\n",
       "      <td>0</td>\n",
       "      <td>0</td>\n",
       "      <td>50</td>\n",
       "      <td>Mexico</td>\n",
       "      <td>&lt;=50K</td>\n",
       "    </tr>\n",
       "    <tr>\n",
       "      <th>...</th>\n",
       "      <td>...</td>\n",
       "      <td>...</td>\n",
       "      <td>...</td>\n",
       "      <td>...</td>\n",
       "      <td>...</td>\n",
       "      <td>...</td>\n",
       "      <td>...</td>\n",
       "      <td>...</td>\n",
       "      <td>...</td>\n",
       "      <td>...</td>\n",
       "      <td>...</td>\n",
       "      <td>...</td>\n",
       "      <td>...</td>\n",
       "    </tr>\n",
       "    <tr>\n",
       "      <th>19394</th>\n",
       "      <td>29</td>\n",
       "      <td>Private</td>\n",
       "      <td>10</td>\n",
       "      <td>Never-married</td>\n",
       "      <td>Other-service</td>\n",
       "      <td>Not-in-family</td>\n",
       "      <td>Black</td>\n",
       "      <td>Female</td>\n",
       "      <td>0</td>\n",
       "      <td>0</td>\n",
       "      <td>30</td>\n",
       "      <td>Jamaica</td>\n",
       "      <td>&lt;=50K</td>\n",
       "    </tr>\n",
       "    <tr>\n",
       "      <th>15068</th>\n",
       "      <td>41</td>\n",
       "      <td>Private</td>\n",
       "      <td>11</td>\n",
       "      <td>Married-civ-spouse</td>\n",
       "      <td>Exec-managerial</td>\n",
       "      <td>Husband</td>\n",
       "      <td>White</td>\n",
       "      <td>Male</td>\n",
       "      <td>0</td>\n",
       "      <td>0</td>\n",
       "      <td>40</td>\n",
       "      <td>United-States</td>\n",
       "      <td>&lt;=50K</td>\n",
       "    </tr>\n",
       "    <tr>\n",
       "      <th>3356</th>\n",
       "      <td>43</td>\n",
       "      <td>Private</td>\n",
       "      <td>9</td>\n",
       "      <td>Married-civ-spouse</td>\n",
       "      <td>Machine-op-inspct</td>\n",
       "      <td>Husband</td>\n",
       "      <td>White</td>\n",
       "      <td>Male</td>\n",
       "      <td>0</td>\n",
       "      <td>0</td>\n",
       "      <td>44</td>\n",
       "      <td>Mexico</td>\n",
       "      <td>&lt;=50K</td>\n",
       "    </tr>\n",
       "    <tr>\n",
       "      <th>3532</th>\n",
       "      <td>37</td>\n",
       "      <td>Private</td>\n",
       "      <td>13</td>\n",
       "      <td>Married-civ-spouse</td>\n",
       "      <td>Sales</td>\n",
       "      <td>Husband</td>\n",
       "      <td>White</td>\n",
       "      <td>Male</td>\n",
       "      <td>0</td>\n",
       "      <td>0</td>\n",
       "      <td>50</td>\n",
       "      <td>United-States</td>\n",
       "      <td>&lt;=50K</td>\n",
       "    </tr>\n",
       "    <tr>\n",
       "      <th>20177</th>\n",
       "      <td>25</td>\n",
       "      <td>Private</td>\n",
       "      <td>10</td>\n",
       "      <td>Never-married</td>\n",
       "      <td>Adm-clerical</td>\n",
       "      <td>Own-child</td>\n",
       "      <td>White</td>\n",
       "      <td>Female</td>\n",
       "      <td>0</td>\n",
       "      <td>0</td>\n",
       "      <td>40</td>\n",
       "      <td>United-States</td>\n",
       "      <td>&lt;=50K</td>\n",
       "    </tr>\n",
       "  </tbody>\n",
       "</table>\n",
       "<p>4522 rows × 13 columns</p>\n",
       "</div>"
      ],
      "text/plain": [
       "       age   workclass  educationno           maritalstatus  \\\n",
       "10246   49   Local-gov           12      Married-civ-spouse   \n",
       "9865    40     Private           14      Married-civ-spouse   \n",
       "6569    25     Private           12           Never-married   \n",
       "7887    19     Private           10   Married-spouse-absent   \n",
       "14236   29     Private            9           Never-married   \n",
       "...    ...         ...          ...                     ...   \n",
       "19394   29     Private           10           Never-married   \n",
       "15068   41     Private           11      Married-civ-spouse   \n",
       "3356    43     Private            9      Married-civ-spouse   \n",
       "3532    37     Private           13      Married-civ-spouse   \n",
       "20177   25     Private           10           Never-married   \n",
       "\n",
       "               occupation    relationship    race      sex  capitalgain  \\\n",
       "10246        Adm-clerical         Husband   White     Male            0   \n",
       "9865      Exec-managerial         Husband   White     Male        15024   \n",
       "6569                Sales   Not-in-family   White     Male            0   \n",
       "7887                Sales       Own-child   White   Female            0   \n",
       "14236     Exec-managerial   Not-in-family   White     Male            0   \n",
       "...                   ...             ...     ...      ...          ...   \n",
       "19394       Other-service   Not-in-family   Black   Female            0   \n",
       "15068     Exec-managerial         Husband   White     Male            0   \n",
       "3356    Machine-op-inspct         Husband   White     Male            0   \n",
       "3532                Sales         Husband   White     Male            0   \n",
       "20177        Adm-clerical       Own-child   White   Female            0   \n",
       "\n",
       "       capitalloss  hoursperweek          native  Salary  \n",
       "10246            0            40   United-States   <=50K  \n",
       "9865             0            50   United-States    >50K  \n",
       "6569             0            48   United-States   <=50K  \n",
       "7887          1602            40   United-States   <=50K  \n",
       "14236            0            50          Mexico   <=50K  \n",
       "...            ...           ...             ...     ...  \n",
       "19394            0            30         Jamaica   <=50K  \n",
       "15068            0            40   United-States   <=50K  \n",
       "3356             0            44          Mexico   <=50K  \n",
       "3532             0            50   United-States   <=50K  \n",
       "20177            0            40   United-States   <=50K  \n",
       "\n",
       "[4522 rows x 13 columns]"
      ]
     },
     "execution_count": 6,
     "metadata": {},
     "output_type": "execute_result"
    }
   ],
   "source": [
    "df_split=df_split.drop('education',axis=1) # Droping the column\n",
    "df_split"
   ]
  },
  {
   "cell_type": "code",
   "execution_count": 7,
   "id": "209716cd",
   "metadata": {
    "ExecuteTime": {
     "end_time": "2022-09-14T03:33:55.748962Z",
     "start_time": "2022-09-14T03:33:55.731292Z"
    }
   },
   "outputs": [],
   "source": [
    "df_split['native']= df_split['native'].astype('category') # will convert column to category\n",
    "df_split['native']= df_split['native'].cat.codes # Encoding the column\n",
    "df_split['Salary']= df_split['Salary'].astype('category') # will convert column to category\n",
    "df_split['Salary']= df_split['Salary'].cat.codes # Encoding the column\n",
    "\n",
    "df_split['workclass']= df_split['workclass'].astype('category') # will convert column to category\n",
    "df_split['workclass']= df_split['workclass'].cat.codes # Encoding the column"
   ]
  },
  {
   "cell_type": "code",
   "execution_count": 8,
   "id": "9384260f",
   "metadata": {
    "ExecuteTime": {
     "end_time": "2022-09-14T03:33:58.665234Z",
     "start_time": "2022-09-14T03:33:58.635034Z"
    }
   },
   "outputs": [],
   "source": [
    "for i in sal_test.columns[3:9]:\n",
    "    df_split[i]=df_split[i].astype('category')\n",
    "    df_split[i]=df_split[i].cat.codes"
   ]
  },
  {
   "cell_type": "code",
   "execution_count": 9,
   "id": "7fe403ca",
   "metadata": {
    "ExecuteTime": {
     "end_time": "2022-09-14T03:34:01.373374Z",
     "start_time": "2022-09-14T03:34:01.341179Z"
    }
   },
   "outputs": [
    {
     "data": {
      "text/html": [
       "<div>\n",
       "<style scoped>\n",
       "    .dataframe tbody tr th:only-of-type {\n",
       "        vertical-align: middle;\n",
       "    }\n",
       "\n",
       "    .dataframe tbody tr th {\n",
       "        vertical-align: top;\n",
       "    }\n",
       "\n",
       "    .dataframe thead th {\n",
       "        text-align: right;\n",
       "    }\n",
       "</style>\n",
       "<table border=\"1\" class=\"dataframe\">\n",
       "  <thead>\n",
       "    <tr style=\"text-align: right;\">\n",
       "      <th></th>\n",
       "      <th>age</th>\n",
       "      <th>workclass</th>\n",
       "      <th>educationno</th>\n",
       "      <th>maritalstatus</th>\n",
       "      <th>occupation</th>\n",
       "      <th>relationship</th>\n",
       "      <th>race</th>\n",
       "      <th>sex</th>\n",
       "      <th>capitalgain</th>\n",
       "      <th>capitalloss</th>\n",
       "      <th>hoursperweek</th>\n",
       "      <th>native</th>\n",
       "      <th>Salary</th>\n",
       "    </tr>\n",
       "  </thead>\n",
       "  <tbody>\n",
       "    <tr>\n",
       "      <th>10246</th>\n",
       "      <td>49</td>\n",
       "      <td>1</td>\n",
       "      <td>11</td>\n",
       "      <td>2</td>\n",
       "      <td>0</td>\n",
       "      <td>0</td>\n",
       "      <td>4</td>\n",
       "      <td>1</td>\n",
       "      <td>0</td>\n",
       "      <td>0</td>\n",
       "      <td>40</td>\n",
       "      <td>36</td>\n",
       "      <td>0</td>\n",
       "    </tr>\n",
       "    <tr>\n",
       "      <th>9865</th>\n",
       "      <td>40</td>\n",
       "      <td>2</td>\n",
       "      <td>13</td>\n",
       "      <td>2</td>\n",
       "      <td>3</td>\n",
       "      <td>0</td>\n",
       "      <td>4</td>\n",
       "      <td>1</td>\n",
       "      <td>15024</td>\n",
       "      <td>0</td>\n",
       "      <td>50</td>\n",
       "      <td>36</td>\n",
       "      <td>1</td>\n",
       "    </tr>\n",
       "    <tr>\n",
       "      <th>6569</th>\n",
       "      <td>25</td>\n",
       "      <td>2</td>\n",
       "      <td>11</td>\n",
       "      <td>4</td>\n",
       "      <td>11</td>\n",
       "      <td>1</td>\n",
       "      <td>4</td>\n",
       "      <td>1</td>\n",
       "      <td>0</td>\n",
       "      <td>0</td>\n",
       "      <td>48</td>\n",
       "      <td>36</td>\n",
       "      <td>0</td>\n",
       "    </tr>\n",
       "    <tr>\n",
       "      <th>7887</th>\n",
       "      <td>19</td>\n",
       "      <td>2</td>\n",
       "      <td>9</td>\n",
       "      <td>3</td>\n",
       "      <td>11</td>\n",
       "      <td>3</td>\n",
       "      <td>4</td>\n",
       "      <td>0</td>\n",
       "      <td>0</td>\n",
       "      <td>1602</td>\n",
       "      <td>40</td>\n",
       "      <td>36</td>\n",
       "      <td>0</td>\n",
       "    </tr>\n",
       "    <tr>\n",
       "      <th>14236</th>\n",
       "      <td>29</td>\n",
       "      <td>2</td>\n",
       "      <td>8</td>\n",
       "      <td>4</td>\n",
       "      <td>3</td>\n",
       "      <td>1</td>\n",
       "      <td>4</td>\n",
       "      <td>1</td>\n",
       "      <td>0</td>\n",
       "      <td>0</td>\n",
       "      <td>50</td>\n",
       "      <td>24</td>\n",
       "      <td>0</td>\n",
       "    </tr>\n",
       "    <tr>\n",
       "      <th>...</th>\n",
       "      <td>...</td>\n",
       "      <td>...</td>\n",
       "      <td>...</td>\n",
       "      <td>...</td>\n",
       "      <td>...</td>\n",
       "      <td>...</td>\n",
       "      <td>...</td>\n",
       "      <td>...</td>\n",
       "      <td>...</td>\n",
       "      <td>...</td>\n",
       "      <td>...</td>\n",
       "      <td>...</td>\n",
       "      <td>...</td>\n",
       "    </tr>\n",
       "    <tr>\n",
       "      <th>19394</th>\n",
       "      <td>29</td>\n",
       "      <td>2</td>\n",
       "      <td>9</td>\n",
       "      <td>4</td>\n",
       "      <td>7</td>\n",
       "      <td>1</td>\n",
       "      <td>2</td>\n",
       "      <td>0</td>\n",
       "      <td>0</td>\n",
       "      <td>0</td>\n",
       "      <td>30</td>\n",
       "      <td>21</td>\n",
       "      <td>0</td>\n",
       "    </tr>\n",
       "    <tr>\n",
       "      <th>15068</th>\n",
       "      <td>41</td>\n",
       "      <td>2</td>\n",
       "      <td>10</td>\n",
       "      <td>2</td>\n",
       "      <td>3</td>\n",
       "      <td>0</td>\n",
       "      <td>4</td>\n",
       "      <td>1</td>\n",
       "      <td>0</td>\n",
       "      <td>0</td>\n",
       "      <td>40</td>\n",
       "      <td>36</td>\n",
       "      <td>0</td>\n",
       "    </tr>\n",
       "    <tr>\n",
       "      <th>3356</th>\n",
       "      <td>43</td>\n",
       "      <td>2</td>\n",
       "      <td>8</td>\n",
       "      <td>2</td>\n",
       "      <td>6</td>\n",
       "      <td>0</td>\n",
       "      <td>4</td>\n",
       "      <td>1</td>\n",
       "      <td>0</td>\n",
       "      <td>0</td>\n",
       "      <td>44</td>\n",
       "      <td>24</td>\n",
       "      <td>0</td>\n",
       "    </tr>\n",
       "    <tr>\n",
       "      <th>3532</th>\n",
       "      <td>37</td>\n",
       "      <td>2</td>\n",
       "      <td>12</td>\n",
       "      <td>2</td>\n",
       "      <td>11</td>\n",
       "      <td>0</td>\n",
       "      <td>4</td>\n",
       "      <td>1</td>\n",
       "      <td>0</td>\n",
       "      <td>0</td>\n",
       "      <td>50</td>\n",
       "      <td>36</td>\n",
       "      <td>0</td>\n",
       "    </tr>\n",
       "    <tr>\n",
       "      <th>20177</th>\n",
       "      <td>25</td>\n",
       "      <td>2</td>\n",
       "      <td>9</td>\n",
       "      <td>4</td>\n",
       "      <td>0</td>\n",
       "      <td>3</td>\n",
       "      <td>4</td>\n",
       "      <td>0</td>\n",
       "      <td>0</td>\n",
       "      <td>0</td>\n",
       "      <td>40</td>\n",
       "      <td>36</td>\n",
       "      <td>0</td>\n",
       "    </tr>\n",
       "  </tbody>\n",
       "</table>\n",
       "<p>4522 rows × 13 columns</p>\n",
       "</div>"
      ],
      "text/plain": [
       "       age  workclass  educationno  maritalstatus  occupation  relationship  \\\n",
       "10246   49          1           11              2           0             0   \n",
       "9865    40          2           13              2           3             0   \n",
       "6569    25          2           11              4          11             1   \n",
       "7887    19          2            9              3          11             3   \n",
       "14236   29          2            8              4           3             1   \n",
       "...    ...        ...          ...            ...         ...           ...   \n",
       "19394   29          2            9              4           7             1   \n",
       "15068   41          2           10              2           3             0   \n",
       "3356    43          2            8              2           6             0   \n",
       "3532    37          2           12              2          11             0   \n",
       "20177   25          2            9              4           0             3   \n",
       "\n",
       "       race  sex  capitalgain  capitalloss  hoursperweek  native  Salary  \n",
       "10246     4    1            0            0            40      36       0  \n",
       "9865      4    1        15024            0            50      36       1  \n",
       "6569      4    1            0            0            48      36       0  \n",
       "7887      4    0            0         1602            40      36       0  \n",
       "14236     4    1            0            0            50      24       0  \n",
       "...     ...  ...          ...          ...           ...     ...     ...  \n",
       "19394     2    0            0            0            30      21       0  \n",
       "15068     4    1            0            0            40      36       0  \n",
       "3356      4    1            0            0            44      24       0  \n",
       "3532      4    1            0            0            50      36       0  \n",
       "20177     4    0            0            0            40      36       0  \n",
       "\n",
       "[4522 rows x 13 columns]"
      ]
     },
     "execution_count": 9,
     "metadata": {},
     "output_type": "execute_result"
    }
   ],
   "source": [
    "df_split"
   ]
  },
  {
   "cell_type": "code",
   "execution_count": 10,
   "id": "4f8f68b9",
   "metadata": {
    "ExecuteTime": {
     "end_time": "2022-09-14T03:34:07.303080Z",
     "start_time": "2022-09-14T03:34:07.274290Z"
    }
   },
   "outputs": [
    {
     "data": {
      "text/html": [
       "<div>\n",
       "<style scoped>\n",
       "    .dataframe tbody tr th:only-of-type {\n",
       "        vertical-align: middle;\n",
       "    }\n",
       "\n",
       "    .dataframe tbody tr th {\n",
       "        vertical-align: top;\n",
       "    }\n",
       "\n",
       "    .dataframe thead th {\n",
       "        text-align: right;\n",
       "    }\n",
       "</style>\n",
       "<table border=\"1\" class=\"dataframe\">\n",
       "  <thead>\n",
       "    <tr style=\"text-align: right;\">\n",
       "      <th></th>\n",
       "      <th>age</th>\n",
       "      <th>workclass</th>\n",
       "      <th>educationno</th>\n",
       "      <th>maritalstatus</th>\n",
       "      <th>occupation</th>\n",
       "      <th>relationship</th>\n",
       "      <th>race</th>\n",
       "      <th>sex</th>\n",
       "      <th>capitalgain</th>\n",
       "      <th>capitalloss</th>\n",
       "      <th>hoursperweek</th>\n",
       "      <th>native</th>\n",
       "      <th>Salary</th>\n",
       "    </tr>\n",
       "  </thead>\n",
       "  <tbody>\n",
       "    <tr>\n",
       "      <th>24518</th>\n",
       "      <td>39</td>\n",
       "      <td>2</td>\n",
       "      <td>10</td>\n",
       "      <td>2</td>\n",
       "      <td>2</td>\n",
       "      <td>0</td>\n",
       "      <td>4</td>\n",
       "      <td>1</td>\n",
       "      <td>0</td>\n",
       "      <td>0</td>\n",
       "      <td>40</td>\n",
       "      <td>36</td>\n",
       "      <td>0</td>\n",
       "    </tr>\n",
       "    <tr>\n",
       "      <th>1925</th>\n",
       "      <td>19</td>\n",
       "      <td>2</td>\n",
       "      <td>8</td>\n",
       "      <td>4</td>\n",
       "      <td>7</td>\n",
       "      <td>3</td>\n",
       "      <td>4</td>\n",
       "      <td>1</td>\n",
       "      <td>0</td>\n",
       "      <td>0</td>\n",
       "      <td>25</td>\n",
       "      <td>36</td>\n",
       "      <td>0</td>\n",
       "    </tr>\n",
       "    <tr>\n",
       "      <th>11530</th>\n",
       "      <td>27</td>\n",
       "      <td>2</td>\n",
       "      <td>11</td>\n",
       "      <td>4</td>\n",
       "      <td>11</td>\n",
       "      <td>1</td>\n",
       "      <td>4</td>\n",
       "      <td>1</td>\n",
       "      <td>0</td>\n",
       "      <td>0</td>\n",
       "      <td>40</td>\n",
       "      <td>36</td>\n",
       "      <td>0</td>\n",
       "    </tr>\n",
       "    <tr>\n",
       "      <th>5896</th>\n",
       "      <td>53</td>\n",
       "      <td>2</td>\n",
       "      <td>9</td>\n",
       "      <td>2</td>\n",
       "      <td>2</td>\n",
       "      <td>0</td>\n",
       "      <td>4</td>\n",
       "      <td>1</td>\n",
       "      <td>0</td>\n",
       "      <td>0</td>\n",
       "      <td>40</td>\n",
       "      <td>36</td>\n",
       "      <td>0</td>\n",
       "    </tr>\n",
       "    <tr>\n",
       "      <th>23651</th>\n",
       "      <td>56</td>\n",
       "      <td>2</td>\n",
       "      <td>9</td>\n",
       "      <td>2</td>\n",
       "      <td>9</td>\n",
       "      <td>0</td>\n",
       "      <td>4</td>\n",
       "      <td>1</td>\n",
       "      <td>0</td>\n",
       "      <td>0</td>\n",
       "      <td>40</td>\n",
       "      <td>36</td>\n",
       "      <td>1</td>\n",
       "    </tr>\n",
       "    <tr>\n",
       "      <th>...</th>\n",
       "      <td>...</td>\n",
       "      <td>...</td>\n",
       "      <td>...</td>\n",
       "      <td>...</td>\n",
       "      <td>...</td>\n",
       "      <td>...</td>\n",
       "      <td>...</td>\n",
       "      <td>...</td>\n",
       "      <td>...</td>\n",
       "      <td>...</td>\n",
       "      <td>...</td>\n",
       "      <td>...</td>\n",
       "      <td>...</td>\n",
       "    </tr>\n",
       "    <tr>\n",
       "      <th>525</th>\n",
       "      <td>24</td>\n",
       "      <td>2</td>\n",
       "      <td>8</td>\n",
       "      <td>4</td>\n",
       "      <td>2</td>\n",
       "      <td>3</td>\n",
       "      <td>4</td>\n",
       "      <td>1</td>\n",
       "      <td>0</td>\n",
       "      <td>0</td>\n",
       "      <td>40</td>\n",
       "      <td>36</td>\n",
       "      <td>0</td>\n",
       "    </tr>\n",
       "    <tr>\n",
       "      <th>29522</th>\n",
       "      <td>44</td>\n",
       "      <td>2</td>\n",
       "      <td>8</td>\n",
       "      <td>2</td>\n",
       "      <td>2</td>\n",
       "      <td>0</td>\n",
       "      <td>4</td>\n",
       "      <td>1</td>\n",
       "      <td>0</td>\n",
       "      <td>0</td>\n",
       "      <td>40</td>\n",
       "      <td>36</td>\n",
       "      <td>0</td>\n",
       "    </tr>\n",
       "    <tr>\n",
       "      <th>18518</th>\n",
       "      <td>37</td>\n",
       "      <td>2</td>\n",
       "      <td>9</td>\n",
       "      <td>2</td>\n",
       "      <td>2</td>\n",
       "      <td>0</td>\n",
       "      <td>4</td>\n",
       "      <td>1</td>\n",
       "      <td>0</td>\n",
       "      <td>0</td>\n",
       "      <td>40</td>\n",
       "      <td>36</td>\n",
       "      <td>0</td>\n",
       "    </tr>\n",
       "    <tr>\n",
       "      <th>7340</th>\n",
       "      <td>45</td>\n",
       "      <td>2</td>\n",
       "      <td>8</td>\n",
       "      <td>2</td>\n",
       "      <td>2</td>\n",
       "      <td>0</td>\n",
       "      <td>4</td>\n",
       "      <td>1</td>\n",
       "      <td>0</td>\n",
       "      <td>0</td>\n",
       "      <td>40</td>\n",
       "      <td>36</td>\n",
       "      <td>0</td>\n",
       "    </tr>\n",
       "    <tr>\n",
       "      <th>4553</th>\n",
       "      <td>20</td>\n",
       "      <td>2</td>\n",
       "      <td>9</td>\n",
       "      <td>4</td>\n",
       "      <td>11</td>\n",
       "      <td>3</td>\n",
       "      <td>4</td>\n",
       "      <td>0</td>\n",
       "      <td>0</td>\n",
       "      <td>0</td>\n",
       "      <td>20</td>\n",
       "      <td>36</td>\n",
       "      <td>0</td>\n",
       "    </tr>\n",
       "  </tbody>\n",
       "</table>\n",
       "<p>116 rows × 13 columns</p>\n",
       "</div>"
      ],
      "text/plain": [
       "       age  workclass  educationno  maritalstatus  occupation  relationship  \\\n",
       "24518   39          2           10              2           2             0   \n",
       "1925    19          2            8              4           7             3   \n",
       "11530   27          2           11              4          11             1   \n",
       "5896    53          2            9              2           2             0   \n",
       "23651   56          2            9              2           9             0   \n",
       "...    ...        ...          ...            ...         ...           ...   \n",
       "525     24          2            8              4           2             3   \n",
       "29522   44          2            8              2           2             0   \n",
       "18518   37          2            9              2           2             0   \n",
       "7340    45          2            8              2           2             0   \n",
       "4553    20          2            9              4          11             3   \n",
       "\n",
       "       race  sex  capitalgain  capitalloss  hoursperweek  native  Salary  \n",
       "24518     4    1            0            0            40      36       0  \n",
       "1925      4    1            0            0            25      36       0  \n",
       "11530     4    1            0            0            40      36       0  \n",
       "5896      4    1            0            0            40      36       0  \n",
       "23651     4    1            0            0            40      36       1  \n",
       "...     ...  ...          ...          ...           ...     ...     ...  \n",
       "525       4    1            0            0            40      36       0  \n",
       "29522     4    1            0            0            40      36       0  \n",
       "18518     4    1            0            0            40      36       0  \n",
       "7340      4    1            0            0            40      36       0  \n",
       "4553      4    0            0            0            20      36       0  \n",
       "\n",
       "[116 rows x 13 columns]"
      ]
     },
     "execution_count": 10,
     "metadata": {},
     "output_type": "execute_result"
    }
   ],
   "source": [
    "df_split[df_split.duplicated()] # Prints the duplicated rows"
   ]
  },
  {
   "cell_type": "code",
   "execution_count": 11,
   "id": "3ebd4899",
   "metadata": {
    "ExecuteTime": {
     "end_time": "2022-09-14T03:34:09.616397Z",
     "start_time": "2022-09-14T03:34:09.600589Z"
    }
   },
   "outputs": [],
   "source": [
    "df_split=df_split.drop_duplicates()"
   ]
  },
  {
   "cell_type": "code",
   "execution_count": 12,
   "id": "6073fbd3",
   "metadata": {
    "ExecuteTime": {
     "end_time": "2022-09-14T03:34:11.683272Z",
     "start_time": "2022-09-14T03:34:11.657358Z"
    }
   },
   "outputs": [
    {
     "data": {
      "text/html": [
       "<div>\n",
       "<style scoped>\n",
       "    .dataframe tbody tr th:only-of-type {\n",
       "        vertical-align: middle;\n",
       "    }\n",
       "\n",
       "    .dataframe tbody tr th {\n",
       "        vertical-align: top;\n",
       "    }\n",
       "\n",
       "    .dataframe thead th {\n",
       "        text-align: right;\n",
       "    }\n",
       "</style>\n",
       "<table border=\"1\" class=\"dataframe\">\n",
       "  <thead>\n",
       "    <tr style=\"text-align: right;\">\n",
       "      <th></th>\n",
       "      <th>index</th>\n",
       "      <th>age</th>\n",
       "      <th>workclass</th>\n",
       "      <th>educationno</th>\n",
       "      <th>maritalstatus</th>\n",
       "      <th>occupation</th>\n",
       "      <th>relationship</th>\n",
       "      <th>race</th>\n",
       "      <th>sex</th>\n",
       "      <th>capitalgain</th>\n",
       "      <th>capitalloss</th>\n",
       "      <th>hoursperweek</th>\n",
       "      <th>native</th>\n",
       "      <th>Salary</th>\n",
       "    </tr>\n",
       "  </thead>\n",
       "  <tbody>\n",
       "    <tr>\n",
       "      <th>0</th>\n",
       "      <td>10246</td>\n",
       "      <td>49</td>\n",
       "      <td>1</td>\n",
       "      <td>11</td>\n",
       "      <td>2</td>\n",
       "      <td>0</td>\n",
       "      <td>0</td>\n",
       "      <td>4</td>\n",
       "      <td>1</td>\n",
       "      <td>0</td>\n",
       "      <td>0</td>\n",
       "      <td>40</td>\n",
       "      <td>36</td>\n",
       "      <td>0</td>\n",
       "    </tr>\n",
       "    <tr>\n",
       "      <th>1</th>\n",
       "      <td>9865</td>\n",
       "      <td>40</td>\n",
       "      <td>2</td>\n",
       "      <td>13</td>\n",
       "      <td>2</td>\n",
       "      <td>3</td>\n",
       "      <td>0</td>\n",
       "      <td>4</td>\n",
       "      <td>1</td>\n",
       "      <td>15024</td>\n",
       "      <td>0</td>\n",
       "      <td>50</td>\n",
       "      <td>36</td>\n",
       "      <td>1</td>\n",
       "    </tr>\n",
       "    <tr>\n",
       "      <th>2</th>\n",
       "      <td>6569</td>\n",
       "      <td>25</td>\n",
       "      <td>2</td>\n",
       "      <td>11</td>\n",
       "      <td>4</td>\n",
       "      <td>11</td>\n",
       "      <td>1</td>\n",
       "      <td>4</td>\n",
       "      <td>1</td>\n",
       "      <td>0</td>\n",
       "      <td>0</td>\n",
       "      <td>48</td>\n",
       "      <td>36</td>\n",
       "      <td>0</td>\n",
       "    </tr>\n",
       "    <tr>\n",
       "      <th>3</th>\n",
       "      <td>7887</td>\n",
       "      <td>19</td>\n",
       "      <td>2</td>\n",
       "      <td>9</td>\n",
       "      <td>3</td>\n",
       "      <td>11</td>\n",
       "      <td>3</td>\n",
       "      <td>4</td>\n",
       "      <td>0</td>\n",
       "      <td>0</td>\n",
       "      <td>1602</td>\n",
       "      <td>40</td>\n",
       "      <td>36</td>\n",
       "      <td>0</td>\n",
       "    </tr>\n",
       "    <tr>\n",
       "      <th>4</th>\n",
       "      <td>14236</td>\n",
       "      <td>29</td>\n",
       "      <td>2</td>\n",
       "      <td>8</td>\n",
       "      <td>4</td>\n",
       "      <td>3</td>\n",
       "      <td>1</td>\n",
       "      <td>4</td>\n",
       "      <td>1</td>\n",
       "      <td>0</td>\n",
       "      <td>0</td>\n",
       "      <td>50</td>\n",
       "      <td>24</td>\n",
       "      <td>0</td>\n",
       "    </tr>\n",
       "    <tr>\n",
       "      <th>...</th>\n",
       "      <td>...</td>\n",
       "      <td>...</td>\n",
       "      <td>...</td>\n",
       "      <td>...</td>\n",
       "      <td>...</td>\n",
       "      <td>...</td>\n",
       "      <td>...</td>\n",
       "      <td>...</td>\n",
       "      <td>...</td>\n",
       "      <td>...</td>\n",
       "      <td>...</td>\n",
       "      <td>...</td>\n",
       "      <td>...</td>\n",
       "      <td>...</td>\n",
       "    </tr>\n",
       "    <tr>\n",
       "      <th>4401</th>\n",
       "      <td>19394</td>\n",
       "      <td>29</td>\n",
       "      <td>2</td>\n",
       "      <td>9</td>\n",
       "      <td>4</td>\n",
       "      <td>7</td>\n",
       "      <td>1</td>\n",
       "      <td>2</td>\n",
       "      <td>0</td>\n",
       "      <td>0</td>\n",
       "      <td>0</td>\n",
       "      <td>30</td>\n",
       "      <td>21</td>\n",
       "      <td>0</td>\n",
       "    </tr>\n",
       "    <tr>\n",
       "      <th>4402</th>\n",
       "      <td>15068</td>\n",
       "      <td>41</td>\n",
       "      <td>2</td>\n",
       "      <td>10</td>\n",
       "      <td>2</td>\n",
       "      <td>3</td>\n",
       "      <td>0</td>\n",
       "      <td>4</td>\n",
       "      <td>1</td>\n",
       "      <td>0</td>\n",
       "      <td>0</td>\n",
       "      <td>40</td>\n",
       "      <td>36</td>\n",
       "      <td>0</td>\n",
       "    </tr>\n",
       "    <tr>\n",
       "      <th>4403</th>\n",
       "      <td>3356</td>\n",
       "      <td>43</td>\n",
       "      <td>2</td>\n",
       "      <td>8</td>\n",
       "      <td>2</td>\n",
       "      <td>6</td>\n",
       "      <td>0</td>\n",
       "      <td>4</td>\n",
       "      <td>1</td>\n",
       "      <td>0</td>\n",
       "      <td>0</td>\n",
       "      <td>44</td>\n",
       "      <td>24</td>\n",
       "      <td>0</td>\n",
       "    </tr>\n",
       "    <tr>\n",
       "      <th>4404</th>\n",
       "      <td>3532</td>\n",
       "      <td>37</td>\n",
       "      <td>2</td>\n",
       "      <td>12</td>\n",
       "      <td>2</td>\n",
       "      <td>11</td>\n",
       "      <td>0</td>\n",
       "      <td>4</td>\n",
       "      <td>1</td>\n",
       "      <td>0</td>\n",
       "      <td>0</td>\n",
       "      <td>50</td>\n",
       "      <td>36</td>\n",
       "      <td>0</td>\n",
       "    </tr>\n",
       "    <tr>\n",
       "      <th>4405</th>\n",
       "      <td>20177</td>\n",
       "      <td>25</td>\n",
       "      <td>2</td>\n",
       "      <td>9</td>\n",
       "      <td>4</td>\n",
       "      <td>0</td>\n",
       "      <td>3</td>\n",
       "      <td>4</td>\n",
       "      <td>0</td>\n",
       "      <td>0</td>\n",
       "      <td>0</td>\n",
       "      <td>40</td>\n",
       "      <td>36</td>\n",
       "      <td>0</td>\n",
       "    </tr>\n",
       "  </tbody>\n",
       "</table>\n",
       "<p>4406 rows × 14 columns</p>\n",
       "</div>"
      ],
      "text/plain": [
       "      index  age  workclass  educationno  maritalstatus  occupation  \\\n",
       "0     10246   49          1           11              2           0   \n",
       "1      9865   40          2           13              2           3   \n",
       "2      6569   25          2           11              4          11   \n",
       "3      7887   19          2            9              3          11   \n",
       "4     14236   29          2            8              4           3   \n",
       "...     ...  ...        ...          ...            ...         ...   \n",
       "4401  19394   29          2            9              4           7   \n",
       "4402  15068   41          2           10              2           3   \n",
       "4403   3356   43          2            8              2           6   \n",
       "4404   3532   37          2           12              2          11   \n",
       "4405  20177   25          2            9              4           0   \n",
       "\n",
       "      relationship  race  sex  capitalgain  capitalloss  hoursperweek  native  \\\n",
       "0                0     4    1            0            0            40      36   \n",
       "1                0     4    1        15024            0            50      36   \n",
       "2                1     4    1            0            0            48      36   \n",
       "3                3     4    0            0         1602            40      36   \n",
       "4                1     4    1            0            0            50      24   \n",
       "...            ...   ...  ...          ...          ...           ...     ...   \n",
       "4401             1     2    0            0            0            30      21   \n",
       "4402             0     4    1            0            0            40      36   \n",
       "4403             0     4    1            0            0            44      24   \n",
       "4404             0     4    1            0            0            50      36   \n",
       "4405             3     4    0            0            0            40      36   \n",
       "\n",
       "      Salary  \n",
       "0          0  \n",
       "1          1  \n",
       "2          0  \n",
       "3          0  \n",
       "4          0  \n",
       "...      ...  \n",
       "4401       0  \n",
       "4402       0  \n",
       "4403       0  \n",
       "4404       0  \n",
       "4405       0  \n",
       "\n",
       "[4406 rows x 14 columns]"
      ]
     },
     "execution_count": 12,
     "metadata": {},
     "output_type": "execute_result"
    }
   ],
   "source": [
    "df_split.reset_index()"
   ]
  },
  {
   "cell_type": "code",
   "execution_count": 13,
   "id": "6160df21",
   "metadata": {
    "ExecuteTime": {
     "end_time": "2022-09-14T03:34:16.058421Z",
     "start_time": "2022-09-14T03:34:16.036502Z"
    }
   },
   "outputs": [
    {
     "name": "stdout",
     "output_type": "stream",
     "text": [
      "<class 'pandas.core.frame.DataFrame'>\n",
      "Int64Index: 4406 entries, 10246 to 20177\n",
      "Data columns (total 13 columns):\n",
      " #   Column         Non-Null Count  Dtype\n",
      "---  ------         --------------  -----\n",
      " 0   age            4406 non-null   int64\n",
      " 1   workclass      4406 non-null   int8 \n",
      " 2   educationno    4406 non-null   int8 \n",
      " 3   maritalstatus  4406 non-null   int8 \n",
      " 4   occupation     4406 non-null   int8 \n",
      " 5   relationship   4406 non-null   int8 \n",
      " 6   race           4406 non-null   int8 \n",
      " 7   sex            4406 non-null   int8 \n",
      " 8   capitalgain    4406 non-null   int64\n",
      " 9   capitalloss    4406 non-null   int64\n",
      " 10  hoursperweek   4406 non-null   int64\n",
      " 11  native         4406 non-null   int8 \n",
      " 12  Salary         4406 non-null   int8 \n",
      "dtypes: int64(4), int8(9)\n",
      "memory usage: 210.8 KB\n"
     ]
    }
   ],
   "source": [
    "df_split.info()"
   ]
  },
  {
   "cell_type": "code",
   "execution_count": 14,
   "id": "4db657ac",
   "metadata": {
    "ExecuteTime": {
     "end_time": "2022-09-14T03:34:26.946294Z",
     "start_time": "2022-09-14T03:34:26.924444Z"
    }
   },
   "outputs": [
    {
     "data": {
      "text/plain": [
       "Index            35248\n",
       "age              35248\n",
       "workclass         4406\n",
       "educationno       4406\n",
       "maritalstatus     4406\n",
       "occupation        4406\n",
       "relationship      4406\n",
       "race              4406\n",
       "sex               4406\n",
       "capitalgain      35248\n",
       "capitalloss      35248\n",
       "hoursperweek     35248\n",
       "native            4406\n",
       "Salary            4406\n",
       "dtype: int64"
      ]
     },
     "execution_count": 14,
     "metadata": {},
     "output_type": "execute_result"
    }
   ],
   "source": [
    "# we can check how much space each column is actually taking\n",
    "# the numbers are in bytes, not kilobytes\n",
    "df_split.memory_usage(deep=True)"
   ]
  },
  {
   "cell_type": "code",
   "execution_count": 15,
   "id": "9a268e48",
   "metadata": {
    "ExecuteTime": {
     "end_time": "2022-09-14T03:34:29.878695Z",
     "start_time": "2022-09-14T03:34:29.853916Z"
    }
   },
   "outputs": [
    {
     "data": {
      "text/plain": [
       "pandas.core.series.Series"
      ]
     },
     "execution_count": 15,
     "metadata": {},
     "output_type": "execute_result"
    }
   ],
   "source": [
    "type(df_split.memory_usage(deep=True))"
   ]
  },
  {
   "cell_type": "code",
   "execution_count": 16,
   "id": "3cb4911c",
   "metadata": {
    "ExecuteTime": {
     "end_time": "2022-09-14T03:34:32.113279Z",
     "start_time": "2022-09-14T03:34:32.089621Z"
    }
   },
   "outputs": [
    {
     "data": {
      "text/plain": [
       "215894"
      ]
     },
     "execution_count": 16,
     "metadata": {},
     "output_type": "execute_result"
    }
   ],
   "source": [
    "df_split.memory_usage(deep=True).sum()"
   ]
  },
  {
   "cell_type": "code",
   "execution_count": 17,
   "id": "d0ecd729",
   "metadata": {
    "ExecuteTime": {
     "end_time": "2022-09-14T03:34:34.258604Z",
     "start_time": "2022-09-14T03:34:34.244586Z"
    }
   },
   "outputs": [],
   "source": [
    "#Changing int type to int8 to reduce the memory size\n",
    "df_split['age']=df_split['age'].astype('int8')\n",
    "df_split['hoursperweek']=df_split['hoursperweek'].astype('int8')\n",
    "df_split['capitalgain']=df_split['capitalgain'].astype('int32')\n",
    "df_split['capitalloss']=df_split['capitalloss'].astype('int16')"
   ]
  },
  {
   "cell_type": "code",
   "execution_count": 18,
   "id": "fc8ac067",
   "metadata": {
    "ExecuteTime": {
     "end_time": "2022-09-14T03:34:37.088324Z",
     "start_time": "2022-09-14T03:34:37.074295Z"
    }
   },
   "outputs": [
    {
     "data": {
      "text/plain": [
       "110150"
      ]
     },
     "execution_count": 18,
     "metadata": {},
     "output_type": "execute_result"
    }
   ],
   "source": [
    "df_split.memory_usage(deep=True).sum()"
   ]
  },
  {
   "cell_type": "code",
   "execution_count": 19,
   "id": "af10f08b",
   "metadata": {
    "ExecuteTime": {
     "end_time": "2022-09-14T03:34:42.898221Z",
     "start_time": "2022-09-14T03:34:42.881441Z"
    }
   },
   "outputs": [
    {
     "name": "stdout",
     "output_type": "stream",
     "text": [
      "<class 'pandas.core.frame.DataFrame'>\n",
      "Int64Index: 4406 entries, 10246 to 20177\n",
      "Data columns (total 13 columns):\n",
      " #   Column         Non-Null Count  Dtype\n",
      "---  ------         --------------  -----\n",
      " 0   age            4406 non-null   int8 \n",
      " 1   workclass      4406 non-null   int8 \n",
      " 2   educationno    4406 non-null   int8 \n",
      " 3   maritalstatus  4406 non-null   int8 \n",
      " 4   occupation     4406 non-null   int8 \n",
      " 5   relationship   4406 non-null   int8 \n",
      " 6   race           4406 non-null   int8 \n",
      " 7   sex            4406 non-null   int8 \n",
      " 8   capitalgain    4406 non-null   int32\n",
      " 9   capitalloss    4406 non-null   int16\n",
      " 10  hoursperweek   4406 non-null   int8 \n",
      " 11  native         4406 non-null   int8 \n",
      " 12  Salary         4406 non-null   int8 \n",
      "dtypes: int16(1), int32(1), int8(11)\n",
      "memory usage: 107.6 KB\n"
     ]
    }
   ],
   "source": [
    "df_split.info(memory_usage='deep')"
   ]
  },
  {
   "cell_type": "code",
   "execution_count": 20,
   "id": "af8fbe0a",
   "metadata": {
    "ExecuteTime": {
     "end_time": "2022-09-14T03:34:47.151439Z",
     "start_time": "2022-09-14T03:34:46.902628Z"
    }
   },
   "outputs": [
    {
     "data": {
      "text/plain": [
       "<AxesSubplot:>"
      ]
     },
     "execution_count": 20,
     "metadata": {},
     "output_type": "execute_result"
    },
    {
     "data": {
      "image/png": "[encoded data removed]",
      "text/plain": [
       "<Figure size 432x288 with 1 Axes>"
      ]
     },
     "metadata": {
      "needs_background": "light"
     },
     "output_type": "display_data"
    }
   ],
   "source": [
    "df_split.maritalstatus.value_counts().plot(kind='bar')"
   ]
  },
  {
   "cell_type": "code",
   "execution_count": 21,
   "id": "53090b70",
   "metadata": {
    "ExecuteTime": {
     "end_time": "2022-09-14T03:34:50.767036Z",
     "start_time": "2022-09-14T03:34:50.319622Z"
    }
   },
   "outputs": [
    {
     "data": {
      "image/png": "[encoded data removed]",
      "text/plain": [
       "<Figure size 432x288 with 1 Axes>"
      ]
     },
     "metadata": {
      "needs_background": "light"
     },
     "output_type": "display_data"
    }
   ],
   "source": [
    "sns.boxplot(x='occupation', y='hoursperweek',data=df_split);"
   ]
  },
  {
   "cell_type": "code",
   "execution_count": 22,
   "id": "65247d2e",
   "metadata": {
    "ExecuteTime": {
     "end_time": "2022-09-14T03:34:53.608477Z",
     "start_time": "2022-09-14T03:34:53.355390Z"
    }
   },
   "outputs": [
    {
     "data": {
      "text/plain": [
       "<AxesSubplot:>"
      ]
     },
     "execution_count": 22,
     "metadata": {},
     "output_type": "execute_result"
    },
    {
     "data": {
      "image/png": "[encoded data removed]",
      "text/plain": [
       "<Figure size 432x288 with 1 Axes>"
      ]
     },
     "metadata": {
      "needs_background": "light"
     },
     "output_type": "display_data"
    }
   ],
   "source": [
    "df_split.educationno.value_counts().plot(kind='bar')"
   ]
  },
  {
   "cell_type": "code",
   "execution_count": 23,
   "id": "fcf4d014",
   "metadata": {
    "ExecuteTime": {
     "end_time": "2022-09-14T03:34:56.101794Z",
     "start_time": "2022-09-14T03:34:56.074865Z"
    }
   },
   "outputs": [
    {
     "data": {
      "text/plain": [
       "9     590\n",
       "3     564\n",
       "11    556\n",
       "2     551\n",
       "0     546\n",
       "7     441\n",
       "6     300\n",
       "13    234\n",
       "5     204\n",
       "12    160\n",
       "4     136\n",
       "10    104\n",
       "8      19\n",
       "1       1\n",
       "Name: occupation, dtype: int64"
      ]
     },
     "execution_count": 23,
     "metadata": {},
     "output_type": "execute_result"
    }
   ],
   "source": [
    "df_split.occupation.value_counts()"
   ]
  },
  {
   "cell_type": "code",
   "execution_count": 24,
   "id": "4b68bfbf",
   "metadata": {
    "ExecuteTime": {
     "end_time": "2022-09-14T03:34:58.918219Z",
     "start_time": "2022-09-14T03:34:58.742214Z"
    }
   },
   "outputs": [
    {
     "data": {
      "text/plain": [
       "<AxesSubplot:>"
      ]
     },
     "execution_count": 24,
     "metadata": {},
     "output_type": "execute_result"
    },
    {
     "data": {
      "image/png": "[encoded data removed]",
      "text/plain": [
       "<Figure size 432x288 with 1 Axes>"
      ]
     },
     "metadata": {
      "needs_background": "light"
     },
     "output_type": "display_data"
    }
   ],
   "source": [
    "df_split.Salary.value_counts().plot(kind='bar')"
   ]
  },
  {
   "cell_type": "code",
   "execution_count": 25,
   "id": "8c5d155c",
   "metadata": {
    "ExecuteTime": {
     "end_time": "2022-09-14T03:35:01.562607Z",
     "start_time": "2022-09-14T03:35:01.362066Z"
    }
   },
   "outputs": [
    {
     "data": {
      "text/plain": [
       "<AxesSubplot:xlabel='Salary', ylabel='educationno'>"
      ]
     },
     "execution_count": 25,
     "metadata": {},
     "output_type": "execute_result"
    },
    {
     "data": {
      "image/png": "[encoded data removed]",
      "text/plain": [
       "<Figure size 432x288 with 1 Axes>"
      ]
     },
     "metadata": {
      "needs_background": "light"
     },
     "output_type": "display_data"
    }
   ],
   "source": [
    "sns.boxplot(df_split.Salary,df_split.educationno)"
   ]
  },
  {
   "cell_type": "code",
   "execution_count": 26,
   "id": "4b9ad37f",
   "metadata": {
    "ExecuteTime": {
     "end_time": "2022-09-14T03:35:04.085736Z",
     "start_time": "2022-09-14T03:35:04.068895Z"
    }
   },
   "outputs": [
    {
     "data": {
      "text/plain": [
       "age              37.0\n",
       "workclass         2.0\n",
       "educationno       9.0\n",
       "maritalstatus     2.0\n",
       "occupation        6.0\n",
       "relationship      1.0\n",
       "race              4.0\n",
       "sex               1.0\n",
       "capitalgain       0.0\n",
       "capitalloss       0.0\n",
       "hoursperweek     40.0\n",
       "native           36.0\n",
       "Salary            0.0\n",
       "dtype: float64"
      ]
     },
     "execution_count": 26,
     "metadata": {},
     "output_type": "execute_result"
    }
   ],
   "source": [
    "md=df_split.median()\n",
    "md"
   ]
  },
  {
   "cell_type": "code",
   "execution_count": 27,
   "id": "81fd4caf",
   "metadata": {
    "ExecuteTime": {
     "end_time": "2022-09-14T03:35:07.490446Z",
     "start_time": "2022-09-14T03:35:07.411110Z"
    }
   },
   "outputs": [],
   "source": [
    "from sklearn.ensemble import IsolationForest"
   ]
  },
  {
   "cell_type": "code",
   "execution_count": 28,
   "id": "eb55f64f",
   "metadata": {
    "ExecuteTime": {
     "end_time": "2022-09-14T03:35:09.886996Z",
     "start_time": "2022-09-14T03:35:09.343115Z"
    }
   },
   "outputs": [
    {
     "data": {
      "text/plain": [
       "IsolationForest(contamination=0.01, random_state=10)"
      ]
     },
     "execution_count": 28,
     "metadata": {},
     "output_type": "execute_result"
    }
   ],
   "source": [
    "# training the model\n",
    "clf = IsolationForest(random_state=10,contamination=.01)\n",
    "clf.fit(df_split)"
   ]
  },
  {
   "cell_type": "code",
   "execution_count": 29,
   "id": "73e8a93d",
   "metadata": {
    "ExecuteTime": {
     "end_time": "2022-09-14T03:35:12.082253Z",
     "start_time": "2022-09-14T03:35:11.811783Z"
    }
   },
   "outputs": [],
   "source": [
    "# predictions\n",
    "y_pred_outliers = clf.predict(df_split)"
   ]
  },
  {
   "cell_type": "code",
   "execution_count": 30,
   "id": "f1bd7ecf",
   "metadata": {
    "ExecuteTime": {
     "end_time": "2022-09-14T03:35:14.021279Z",
     "start_time": "2022-09-14T03:35:14.007554Z"
    }
   },
   "outputs": [
    {
     "data": {
      "text/plain": [
       "array([1, 1, 1, ..., 1, 1, 1])"
      ]
     },
     "execution_count": 30,
     "metadata": {},
     "output_type": "execute_result"
    }
   ],
   "source": [
    "#-1 for outliers and 1 for inliers.\n",
    "y_pred_outliers"
   ]
  },
  {
   "cell_type": "code",
   "execution_count": 31,
   "id": "e4356f3c",
   "metadata": {
    "ExecuteTime": {
     "end_time": "2022-09-14T03:35:16.044903Z",
     "start_time": "2022-09-14T03:35:16.030299Z"
    }
   },
   "outputs": [],
   "source": [
    "df_split['Outliers']=y_pred_outliers"
   ]
  },
  {
   "cell_type": "code",
   "execution_count": 32,
   "id": "faa77a39",
   "metadata": {
    "ExecuteTime": {
     "end_time": "2022-09-14T03:35:18.566218Z",
     "start_time": "2022-09-14T03:35:18.548300Z"
    }
   },
   "outputs": [
    {
     "data": {
      "text/plain": [
       " 1    4361\n",
       "-1      45\n",
       "Name: Outliers, dtype: int64"
      ]
     },
     "execution_count": 32,
     "metadata": {},
     "output_type": "execute_result"
    }
   ],
   "source": [
    "df_split['Outliers'].value_counts()"
   ]
  },
  {
   "cell_type": "code",
   "execution_count": 33,
   "id": "cd1bb3c7",
   "metadata": {
    "ExecuteTime": {
     "end_time": "2022-09-14T03:35:20.933153Z",
     "start_time": "2022-09-14T03:35:20.913391Z"
    }
   },
   "outputs": [
    {
     "name": "stdout",
     "output_type": "stream",
     "text": [
      "<class 'pandas.core.frame.DataFrame'>\n",
      "Int64Index: 4406 entries, 10246 to 20177\n",
      "Data columns (total 14 columns):\n",
      " #   Column         Non-Null Count  Dtype\n",
      "---  ------         --------------  -----\n",
      " 0   age            4406 non-null   int8 \n",
      " 1   workclass      4406 non-null   int8 \n",
      " 2   educationno    4406 non-null   int8 \n",
      " 3   maritalstatus  4406 non-null   int8 \n",
      " 4   occupation     4406 non-null   int8 \n",
      " 5   relationship   4406 non-null   int8 \n",
      " 6   race           4406 non-null   int8 \n",
      " 7   sex            4406 non-null   int8 \n",
      " 8   capitalgain    4406 non-null   int32\n",
      " 9   capitalloss    4406 non-null   int16\n",
      " 10  hoursperweek   4406 non-null   int8 \n",
      " 11  native         4406 non-null   int8 \n",
      " 12  Salary         4406 non-null   int8 \n",
      " 13  Outliers       4406 non-null   int32\n",
      "dtypes: int16(1), int32(2), int8(11)\n",
      "memory usage: 253.8 KB\n"
     ]
    }
   ],
   "source": [
    "df_split.info(memory_usage='deep')"
   ]
  },
  {
   "cell_type": "code",
   "execution_count": 34,
   "id": "604cad09",
   "metadata": {
    "ExecuteTime": {
     "end_time": "2022-09-14T03:35:24.304018Z",
     "start_time": "2022-09-14T03:35:23.925028Z"
    }
   },
   "outputs": [
    {
     "data": {
      "text/plain": [
       "Text(0.5, 0, 'hoursperweek')"
      ]
     },
     "execution_count": 34,
     "metadata": {},
     "output_type": "execute_result"
    },
    {
     "data": {
      "image/png": "[encoded data removed]",
      "text/plain": [
       "<Figure size 432x288 with 1 Axes>"
      ]
     },
     "metadata": {
      "needs_background": "light"
     },
     "output_type": "display_data"
    }
   ],
   "source": [
    "ax = plt.subplot(projection='3d')\n",
    "ax.scatter3D(df_split.educationno, df_split.occupation,df_split.hoursperweek , c=df_split.occupation, s=50, cmap='autumn')\n",
    "ax.set_xlabel('educationno')\n",
    "ax.set_ylabel('occupation')\n",
    "ax.set_zlabel('hoursperweek')"
   ]
  },
  {
   "cell_type": "code",
   "execution_count": 35,
   "id": "94386005",
   "metadata": {
    "ExecuteTime": {
     "end_time": "2022-09-14T03:35:27.536812Z",
     "start_time": "2022-09-14T03:35:27.152536Z"
    }
   },
   "outputs": [
    {
     "data": {
      "text/plain": [
       "Text(0.5, 1.0, 'Capital Gain')"
      ]
     },
     "execution_count": 35,
     "metadata": {},
     "output_type": "execute_result"
    },
    {
     "data": {
      "image/png": "[encoded data removed]",
      "text/plain": [
       "<Figure size 432x288 with 1 Axes>"
      ]
     },
     "metadata": {
      "needs_background": "light"
     },
     "output_type": "display_data"
    }
   ],
   "source": [
    "sns.distplot(df_split.capitalgain)\n",
    "plt.title(\"Capital Gain\")"
   ]
  },
  {
   "cell_type": "code",
   "execution_count": 36,
   "id": "616ba428",
   "metadata": {
    "ExecuteTime": {
     "end_time": "2022-09-14T03:35:30.553537Z",
     "start_time": "2022-09-14T03:35:30.116539Z"
    }
   },
   "outputs": [
    {
     "data": {
      "text/plain": [
       "Text(0.5, 1.0, 'Capital Loss')"
      ]
     },
     "execution_count": 36,
     "metadata": {},
     "output_type": "execute_result"
    },
    {
     "data": {
      "image/png": "[encoded data removed]",
      "text/plain": [
       "<Figure size 432x288 with 1 Axes>"
      ]
     },
     "metadata": {
      "needs_background": "light"
     },
     "output_type": "display_data"
    }
   ],
   "source": [
    "sns.distplot(df_split.capitalloss)\n",
    "plt.title(\"Capital Loss\")"
   ]
  },
  {
   "cell_type": "code",
   "execution_count": 37,
   "id": "7cf80330",
   "metadata": {
    "ExecuteTime": {
     "end_time": "2022-09-14T03:35:32.770110Z",
     "start_time": "2022-09-14T03:35:32.691207Z"
    }
   },
   "outputs": [
    {
     "data": {
      "text/html": [
       "<div>\n",
       "<style scoped>\n",
       "    .dataframe tbody tr th:only-of-type {\n",
       "        vertical-align: middle;\n",
       "    }\n",
       "\n",
       "    .dataframe tbody tr th {\n",
       "        vertical-align: top;\n",
       "    }\n",
       "\n",
       "    .dataframe thead th {\n",
       "        text-align: right;\n",
       "    }\n",
       "</style>\n",
       "<table border=\"1\" class=\"dataframe\">\n",
       "  <thead>\n",
       "    <tr style=\"text-align: right;\">\n",
       "      <th></th>\n",
       "      <th>age</th>\n",
       "      <th>workclass</th>\n",
       "      <th>educationno</th>\n",
       "      <th>maritalstatus</th>\n",
       "      <th>occupation</th>\n",
       "      <th>relationship</th>\n",
       "      <th>race</th>\n",
       "      <th>sex</th>\n",
       "      <th>capitalgain</th>\n",
       "      <th>capitalloss</th>\n",
       "      <th>hoursperweek</th>\n",
       "      <th>native</th>\n",
       "      <th>Salary</th>\n",
       "      <th>Outliers</th>\n",
       "    </tr>\n",
       "  </thead>\n",
       "  <tbody>\n",
       "    <tr>\n",
       "      <th>count</th>\n",
       "      <td>4406.000000</td>\n",
       "      <td>4406.000000</td>\n",
       "      <td>4406.000000</td>\n",
       "      <td>4406.000000</td>\n",
       "      <td>4406.000000</td>\n",
       "      <td>4406.000000</td>\n",
       "      <td>4406.000000</td>\n",
       "      <td>4406.000000</td>\n",
       "      <td>4406.000000</td>\n",
       "      <td>4406.00000</td>\n",
       "      <td>4406.000000</td>\n",
       "      <td>4406.000000</td>\n",
       "      <td>4406.000000</td>\n",
       "      <td>4406.000000</td>\n",
       "    </tr>\n",
       "    <tr>\n",
       "      <th>mean</th>\n",
       "      <td>38.639809</td>\n",
       "      <td>2.211076</td>\n",
       "      <td>9.088289</td>\n",
       "      <td>2.584657</td>\n",
       "      <td>6.088516</td>\n",
       "      <td>1.401725</td>\n",
       "      <td>3.674535</td>\n",
       "      <td>0.682025</td>\n",
       "      <td>1066.975034</td>\n",
       "      <td>105.91035</td>\n",
       "      <td>41.014753</td>\n",
       "      <td>34.519746</td>\n",
       "      <td>0.259873</td>\n",
       "      <td>0.979573</td>\n",
       "    </tr>\n",
       "    <tr>\n",
       "      <th>std</th>\n",
       "      <td>13.260212</td>\n",
       "      <td>0.971290</td>\n",
       "      <td>2.590766</td>\n",
       "      <td>1.505037</td>\n",
       "      <td>4.068189</td>\n",
       "      <td>1.590048</td>\n",
       "      <td>0.840151</td>\n",
       "      <td>0.465743</td>\n",
       "      <td>7295.338801</td>\n",
       "      <td>440.49652</td>\n",
       "      <td>11.920490</td>\n",
       "      <td>5.635339</td>\n",
       "      <td>0.438614</td>\n",
       "      <td>0.201110</td>\n",
       "    </tr>\n",
       "    <tr>\n",
       "      <th>min</th>\n",
       "      <td>17.000000</td>\n",
       "      <td>0.000000</td>\n",
       "      <td>0.000000</td>\n",
       "      <td>0.000000</td>\n",
       "      <td>0.000000</td>\n",
       "      <td>0.000000</td>\n",
       "      <td>0.000000</td>\n",
       "      <td>0.000000</td>\n",
       "      <td>0.000000</td>\n",
       "      <td>0.00000</td>\n",
       "      <td>1.000000</td>\n",
       "      <td>0.000000</td>\n",
       "      <td>0.000000</td>\n",
       "      <td>-1.000000</td>\n",
       "    </tr>\n",
       "    <tr>\n",
       "      <th>25%</th>\n",
       "      <td>28.000000</td>\n",
       "      <td>2.000000</td>\n",
       "      <td>8.000000</td>\n",
       "      <td>2.000000</td>\n",
       "      <td>3.000000</td>\n",
       "      <td>0.000000</td>\n",
       "      <td>4.000000</td>\n",
       "      <td>0.000000</td>\n",
       "      <td>0.000000</td>\n",
       "      <td>0.00000</td>\n",
       "      <td>40.000000</td>\n",
       "      <td>36.000000</td>\n",
       "      <td>0.000000</td>\n",
       "      <td>1.000000</td>\n",
       "    </tr>\n",
       "    <tr>\n",
       "      <th>50%</th>\n",
       "      <td>37.000000</td>\n",
       "      <td>2.000000</td>\n",
       "      <td>9.000000</td>\n",
       "      <td>2.000000</td>\n",
       "      <td>6.000000</td>\n",
       "      <td>1.000000</td>\n",
       "      <td>4.000000</td>\n",
       "      <td>1.000000</td>\n",
       "      <td>0.000000</td>\n",
       "      <td>0.00000</td>\n",
       "      <td>40.000000</td>\n",
       "      <td>36.000000</td>\n",
       "      <td>0.000000</td>\n",
       "      <td>1.000000</td>\n",
       "    </tr>\n",
       "    <tr>\n",
       "      <th>75%</th>\n",
       "      <td>48.000000</td>\n",
       "      <td>2.000000</td>\n",
       "      <td>11.000000</td>\n",
       "      <td>4.000000</td>\n",
       "      <td>9.000000</td>\n",
       "      <td>3.000000</td>\n",
       "      <td>4.000000</td>\n",
       "      <td>1.000000</td>\n",
       "      <td>0.000000</td>\n",
       "      <td>0.00000</td>\n",
       "      <td>45.000000</td>\n",
       "      <td>36.000000</td>\n",
       "      <td>1.000000</td>\n",
       "      <td>1.000000</td>\n",
       "    </tr>\n",
       "    <tr>\n",
       "      <th>max</th>\n",
       "      <td>90.000000</td>\n",
       "      <td>6.000000</td>\n",
       "      <td>15.000000</td>\n",
       "      <td>6.000000</td>\n",
       "      <td>13.000000</td>\n",
       "      <td>5.000000</td>\n",
       "      <td>4.000000</td>\n",
       "      <td>1.000000</td>\n",
       "      <td>99999.000000</td>\n",
       "      <td>2824.00000</td>\n",
       "      <td>99.000000</td>\n",
       "      <td>38.000000</td>\n",
       "      <td>1.000000</td>\n",
       "      <td>1.000000</td>\n",
       "    </tr>\n",
       "  </tbody>\n",
       "</table>\n",
       "</div>"
      ],
      "text/plain": [
       "               age    workclass  educationno  maritalstatus   occupation  \\\n",
       "count  4406.000000  4406.000000  4406.000000    4406.000000  4406.000000   \n",
       "mean     38.639809     2.211076     9.088289       2.584657     6.088516   \n",
       "std      13.260212     0.971290     2.590766       1.505037     4.068189   \n",
       "min      17.000000     0.000000     0.000000       0.000000     0.000000   \n",
       "25%      28.000000     2.000000     8.000000       2.000000     3.000000   \n",
       "50%      37.000000     2.000000     9.000000       2.000000     6.000000   \n",
       "75%      48.000000     2.000000    11.000000       4.000000     9.000000   \n",
       "max      90.000000     6.000000    15.000000       6.000000    13.000000   \n",
       "\n",
       "       relationship         race          sex   capitalgain  capitalloss  \\\n",
       "count   4406.000000  4406.000000  4406.000000   4406.000000   4406.00000   \n",
       "mean       1.401725     3.674535     0.682025   1066.975034    105.91035   \n",
       "std        1.590048     0.840151     0.465743   7295.338801    440.49652   \n",
       "min        0.000000     0.000000     0.000000      0.000000      0.00000   \n",
       "25%        0.000000     4.000000     0.000000      0.000000      0.00000   \n",
       "50%        1.000000     4.000000     1.000000      0.000000      0.00000   \n",
       "75%        3.000000     4.000000     1.000000      0.000000      0.00000   \n",
       "max        5.000000     4.000000     1.000000  99999.000000   2824.00000   \n",
       "\n",
       "       hoursperweek       native       Salary     Outliers  \n",
       "count   4406.000000  4406.000000  4406.000000  4406.000000  \n",
       "mean      41.014753    34.519746     0.259873     0.979573  \n",
       "std       11.920490     5.635339     0.438614     0.201110  \n",
       "min        1.000000     0.000000     0.000000    -1.000000  \n",
       "25%       40.000000    36.000000     0.000000     1.000000  \n",
       "50%       40.000000    36.000000     0.000000     1.000000  \n",
       "75%       45.000000    36.000000     1.000000     1.000000  \n",
       "max       99.000000    38.000000     1.000000     1.000000  "
      ]
     },
     "execution_count": 37,
     "metadata": {},
     "output_type": "execute_result"
    }
   ],
   "source": [
    "df_split.describe()"
   ]
  },
  {
   "cell_type": "code",
   "execution_count": 38,
   "id": "9da33665",
   "metadata": {
    "ExecuteTime": {
     "end_time": "2022-09-14T03:35:35.419254Z",
     "start_time": "2022-09-14T03:35:35.403071Z"
    }
   },
   "outputs": [],
   "source": [
    "# replacing outliers with the median\n",
    "df_split.mask(cond=(df_split.Outliers==-1), other=md, axis=1, inplace=True)"
   ]
  },
  {
   "cell_type": "code",
   "execution_count": 39,
   "id": "c21e3fc2",
   "metadata": {
    "ExecuteTime": {
     "end_time": "2022-09-14T03:35:37.563537Z",
     "start_time": "2022-09-14T03:35:37.534530Z"
    }
   },
   "outputs": [
    {
     "data": {
      "text/html": [
       "<div>\n",
       "<style scoped>\n",
       "    .dataframe tbody tr th:only-of-type {\n",
       "        vertical-align: middle;\n",
       "    }\n",
       "\n",
       "    .dataframe tbody tr th {\n",
       "        vertical-align: top;\n",
       "    }\n",
       "\n",
       "    .dataframe thead th {\n",
       "        text-align: right;\n",
       "    }\n",
       "</style>\n",
       "<table border=\"1\" class=\"dataframe\">\n",
       "  <thead>\n",
       "    <tr style=\"text-align: right;\">\n",
       "      <th></th>\n",
       "      <th>age</th>\n",
       "      <th>workclass</th>\n",
       "      <th>educationno</th>\n",
       "      <th>maritalstatus</th>\n",
       "      <th>occupation</th>\n",
       "      <th>relationship</th>\n",
       "      <th>race</th>\n",
       "      <th>sex</th>\n",
       "      <th>capitalgain</th>\n",
       "      <th>capitalloss</th>\n",
       "      <th>hoursperweek</th>\n",
       "      <th>native</th>\n",
       "      <th>Salary</th>\n",
       "      <th>Outliers</th>\n",
       "    </tr>\n",
       "  </thead>\n",
       "  <tbody>\n",
       "    <tr>\n",
       "      <th>10246</th>\n",
       "      <td>49</td>\n",
       "      <td>1</td>\n",
       "      <td>11</td>\n",
       "      <td>2</td>\n",
       "      <td>0</td>\n",
       "      <td>0</td>\n",
       "      <td>4</td>\n",
       "      <td>1</td>\n",
       "      <td>0</td>\n",
       "      <td>0</td>\n",
       "      <td>40</td>\n",
       "      <td>36</td>\n",
       "      <td>0</td>\n",
       "      <td>1.0</td>\n",
       "    </tr>\n",
       "    <tr>\n",
       "      <th>9865</th>\n",
       "      <td>40</td>\n",
       "      <td>2</td>\n",
       "      <td>13</td>\n",
       "      <td>2</td>\n",
       "      <td>3</td>\n",
       "      <td>0</td>\n",
       "      <td>4</td>\n",
       "      <td>1</td>\n",
       "      <td>15024</td>\n",
       "      <td>0</td>\n",
       "      <td>50</td>\n",
       "      <td>36</td>\n",
       "      <td>1</td>\n",
       "      <td>1.0</td>\n",
       "    </tr>\n",
       "    <tr>\n",
       "      <th>6569</th>\n",
       "      <td>25</td>\n",
       "      <td>2</td>\n",
       "      <td>11</td>\n",
       "      <td>4</td>\n",
       "      <td>11</td>\n",
       "      <td>1</td>\n",
       "      <td>4</td>\n",
       "      <td>1</td>\n",
       "      <td>0</td>\n",
       "      <td>0</td>\n",
       "      <td>48</td>\n",
       "      <td>36</td>\n",
       "      <td>0</td>\n",
       "      <td>1.0</td>\n",
       "    </tr>\n",
       "    <tr>\n",
       "      <th>7887</th>\n",
       "      <td>19</td>\n",
       "      <td>2</td>\n",
       "      <td>9</td>\n",
       "      <td>3</td>\n",
       "      <td>11</td>\n",
       "      <td>3</td>\n",
       "      <td>4</td>\n",
       "      <td>0</td>\n",
       "      <td>0</td>\n",
       "      <td>1602</td>\n",
       "      <td>40</td>\n",
       "      <td>36</td>\n",
       "      <td>0</td>\n",
       "      <td>1.0</td>\n",
       "    </tr>\n",
       "    <tr>\n",
       "      <th>14236</th>\n",
       "      <td>29</td>\n",
       "      <td>2</td>\n",
       "      <td>8</td>\n",
       "      <td>4</td>\n",
       "      <td>3</td>\n",
       "      <td>1</td>\n",
       "      <td>4</td>\n",
       "      <td>1</td>\n",
       "      <td>0</td>\n",
       "      <td>0</td>\n",
       "      <td>50</td>\n",
       "      <td>24</td>\n",
       "      <td>0</td>\n",
       "      <td>1.0</td>\n",
       "    </tr>\n",
       "    <tr>\n",
       "      <th>23793</th>\n",
       "      <td>22</td>\n",
       "      <td>2</td>\n",
       "      <td>7</td>\n",
       "      <td>2</td>\n",
       "      <td>13</td>\n",
       "      <td>0</td>\n",
       "      <td>4</td>\n",
       "      <td>1</td>\n",
       "      <td>0</td>\n",
       "      <td>0</td>\n",
       "      <td>40</td>\n",
       "      <td>36</td>\n",
       "      <td>0</td>\n",
       "      <td>1.0</td>\n",
       "    </tr>\n",
       "    <tr>\n",
       "      <th>4334</th>\n",
       "      <td>29</td>\n",
       "      <td>2</td>\n",
       "      <td>8</td>\n",
       "      <td>4</td>\n",
       "      <td>0</td>\n",
       "      <td>4</td>\n",
       "      <td>4</td>\n",
       "      <td>1</td>\n",
       "      <td>0</td>\n",
       "      <td>0</td>\n",
       "      <td>35</td>\n",
       "      <td>24</td>\n",
       "      <td>0</td>\n",
       "      <td>1.0</td>\n",
       "    </tr>\n",
       "    <tr>\n",
       "      <th>30074</th>\n",
       "      <td>48</td>\n",
       "      <td>3</td>\n",
       "      <td>8</td>\n",
       "      <td>2</td>\n",
       "      <td>2</td>\n",
       "      <td>0</td>\n",
       "      <td>4</td>\n",
       "      <td>1</td>\n",
       "      <td>7298</td>\n",
       "      <td>0</td>\n",
       "      <td>50</td>\n",
       "      <td>36</td>\n",
       "      <td>1</td>\n",
       "      <td>1.0</td>\n",
       "    </tr>\n",
       "    <tr>\n",
       "      <th>14772</th>\n",
       "      <td>33</td>\n",
       "      <td>0</td>\n",
       "      <td>8</td>\n",
       "      <td>4</td>\n",
       "      <td>0</td>\n",
       "      <td>3</td>\n",
       "      <td>4</td>\n",
       "      <td>0</td>\n",
       "      <td>0</td>\n",
       "      <td>0</td>\n",
       "      <td>30</td>\n",
       "      <td>36</td>\n",
       "      <td>0</td>\n",
       "      <td>1.0</td>\n",
       "    </tr>\n",
       "    <tr>\n",
       "      <th>22124</th>\n",
       "      <td>19</td>\n",
       "      <td>2</td>\n",
       "      <td>3</td>\n",
       "      <td>2</td>\n",
       "      <td>5</td>\n",
       "      <td>3</td>\n",
       "      <td>4</td>\n",
       "      <td>1</td>\n",
       "      <td>0</td>\n",
       "      <td>0</td>\n",
       "      <td>45</td>\n",
       "      <td>24</td>\n",
       "      <td>0</td>\n",
       "      <td>1.0</td>\n",
       "    </tr>\n",
       "  </tbody>\n",
       "</table>\n",
       "</div>"
      ],
      "text/plain": [
       "       age  workclass  educationno  maritalstatus  occupation  relationship  \\\n",
       "10246   49          1           11              2           0             0   \n",
       "9865    40          2           13              2           3             0   \n",
       "6569    25          2           11              4          11             1   \n",
       "7887    19          2            9              3          11             3   \n",
       "14236   29          2            8              4           3             1   \n",
       "23793   22          2            7              2          13             0   \n",
       "4334    29          2            8              4           0             4   \n",
       "30074   48          3            8              2           2             0   \n",
       "14772   33          0            8              4           0             3   \n",
       "22124   19          2            3              2           5             3   \n",
       "\n",
       "       race  sex  capitalgain  capitalloss  hoursperweek  native  Salary  \\\n",
       "10246     4    1            0            0            40      36       0   \n",
       "9865      4    1        15024            0            50      36       1   \n",
       "6569      4    1            0            0            48      36       0   \n",
       "7887      4    0            0         1602            40      36       0   \n",
       "14236     4    1            0            0            50      24       0   \n",
       "23793     4    1            0            0            40      36       0   \n",
       "4334      4    1            0            0            35      24       0   \n",
       "30074     4    1         7298            0            50      36       1   \n",
       "14772     4    0            0            0            30      36       0   \n",
       "22124     4    1            0            0            45      24       0   \n",
       "\n",
       "       Outliers  \n",
       "10246       1.0  \n",
       "9865        1.0  \n",
       "6569        1.0  \n",
       "7887        1.0  \n",
       "14236       1.0  \n",
       "23793       1.0  \n",
       "4334        1.0  \n",
       "30074       1.0  \n",
       "14772       1.0  \n",
       "22124       1.0  "
      ]
     },
     "execution_count": 39,
     "metadata": {},
     "output_type": "execute_result"
    }
   ],
   "source": [
    "df_split.head(10)"
   ]
  },
  {
   "cell_type": "code",
   "execution_count": 40,
   "id": "22823e7e",
   "metadata": {
    "ExecuteTime": {
     "end_time": "2022-09-14T03:35:40.294450Z",
     "start_time": "2022-09-14T03:35:40.279901Z"
    }
   },
   "outputs": [],
   "source": [
    "df_split=df_split.drop('Outliers',axis=1)"
   ]
  },
  {
   "cell_type": "code",
   "execution_count": 41,
   "id": "0c0c20f4",
   "metadata": {
    "ExecuteTime": {
     "end_time": "2022-09-14T03:35:43.032726Z",
     "start_time": "2022-09-14T03:35:42.950447Z"
    }
   },
   "outputs": [
    {
     "data": {
      "text/html": [
       "<div>\n",
       "<style scoped>\n",
       "    .dataframe tbody tr th:only-of-type {\n",
       "        vertical-align: middle;\n",
       "    }\n",
       "\n",
       "    .dataframe tbody tr th {\n",
       "        vertical-align: top;\n",
       "    }\n",
       "\n",
       "    .dataframe thead th {\n",
       "        text-align: right;\n",
       "    }\n",
       "</style>\n",
       "<table border=\"1\" class=\"dataframe\">\n",
       "  <thead>\n",
       "    <tr style=\"text-align: right;\">\n",
       "      <th></th>\n",
       "      <th>age</th>\n",
       "      <th>workclass</th>\n",
       "      <th>educationno</th>\n",
       "      <th>maritalstatus</th>\n",
       "      <th>occupation</th>\n",
       "      <th>relationship</th>\n",
       "      <th>race</th>\n",
       "      <th>sex</th>\n",
       "      <th>capitalgain</th>\n",
       "      <th>capitalloss</th>\n",
       "      <th>hoursperweek</th>\n",
       "      <th>native</th>\n",
       "      <th>Salary</th>\n",
       "    </tr>\n",
       "  </thead>\n",
       "  <tbody>\n",
       "    <tr>\n",
       "      <th>count</th>\n",
       "      <td>4406.000000</td>\n",
       "      <td>4406.000000</td>\n",
       "      <td>4406.000000</td>\n",
       "      <td>4406.000000</td>\n",
       "      <td>4406.000000</td>\n",
       "      <td>4406.000000</td>\n",
       "      <td>4406.000000</td>\n",
       "      <td>4406.000000</td>\n",
       "      <td>4406.000000</td>\n",
       "      <td>4406.000000</td>\n",
       "      <td>4406.000000</td>\n",
       "      <td>4406.000000</td>\n",
       "      <td>4406.000000</td>\n",
       "    </tr>\n",
       "    <tr>\n",
       "      <th>mean</th>\n",
       "      <td>38.483205</td>\n",
       "      <td>2.204948</td>\n",
       "      <td>9.073082</td>\n",
       "      <td>2.574898</td>\n",
       "      <td>6.080118</td>\n",
       "      <td>1.388107</td>\n",
       "      <td>3.684975</td>\n",
       "      <td>0.687699</td>\n",
       "      <td>852.288470</td>\n",
       "      <td>97.110758</td>\n",
       "      <td>41.041761</td>\n",
       "      <td>34.628234</td>\n",
       "      <td>0.252610</td>\n",
       "    </tr>\n",
       "    <tr>\n",
       "      <th>std</th>\n",
       "      <td>13.105044</td>\n",
       "      <td>0.959324</td>\n",
       "      <td>2.561058</td>\n",
       "      <td>1.490095</td>\n",
       "      <td>4.047861</td>\n",
       "      <td>1.576382</td>\n",
       "      <td>0.827005</td>\n",
       "      <td>0.463485</td>\n",
       "      <td>5903.346426</td>\n",
       "      <td>421.219274</td>\n",
       "      <td>11.769546</td>\n",
       "      <td>5.356932</td>\n",
       "      <td>0.434558</td>\n",
       "    </tr>\n",
       "    <tr>\n",
       "      <th>min</th>\n",
       "      <td>17.000000</td>\n",
       "      <td>0.000000</td>\n",
       "      <td>0.000000</td>\n",
       "      <td>0.000000</td>\n",
       "      <td>0.000000</td>\n",
       "      <td>0.000000</td>\n",
       "      <td>0.000000</td>\n",
       "      <td>0.000000</td>\n",
       "      <td>0.000000</td>\n",
       "      <td>0.000000</td>\n",
       "      <td>1.000000</td>\n",
       "      <td>0.000000</td>\n",
       "      <td>0.000000</td>\n",
       "    </tr>\n",
       "    <tr>\n",
       "      <th>25%</th>\n",
       "      <td>28.000000</td>\n",
       "      <td>2.000000</td>\n",
       "      <td>8.000000</td>\n",
       "      <td>2.000000</td>\n",
       "      <td>3.000000</td>\n",
       "      <td>0.000000</td>\n",
       "      <td>4.000000</td>\n",
       "      <td>0.000000</td>\n",
       "      <td>0.000000</td>\n",
       "      <td>0.000000</td>\n",
       "      <td>40.000000</td>\n",
       "      <td>36.000000</td>\n",
       "      <td>0.000000</td>\n",
       "    </tr>\n",
       "    <tr>\n",
       "      <th>50%</th>\n",
       "      <td>37.000000</td>\n",
       "      <td>2.000000</td>\n",
       "      <td>9.000000</td>\n",
       "      <td>2.000000</td>\n",
       "      <td>6.000000</td>\n",
       "      <td>1.000000</td>\n",
       "      <td>4.000000</td>\n",
       "      <td>1.000000</td>\n",
       "      <td>0.000000</td>\n",
       "      <td>0.000000</td>\n",
       "      <td>40.000000</td>\n",
       "      <td>36.000000</td>\n",
       "      <td>0.000000</td>\n",
       "    </tr>\n",
       "    <tr>\n",
       "      <th>75%</th>\n",
       "      <td>47.000000</td>\n",
       "      <td>2.000000</td>\n",
       "      <td>11.000000</td>\n",
       "      <td>4.000000</td>\n",
       "      <td>9.000000</td>\n",
       "      <td>3.000000</td>\n",
       "      <td>4.000000</td>\n",
       "      <td>1.000000</td>\n",
       "      <td>0.000000</td>\n",
       "      <td>0.000000</td>\n",
       "      <td>45.000000</td>\n",
       "      <td>36.000000</td>\n",
       "      <td>1.000000</td>\n",
       "    </tr>\n",
       "    <tr>\n",
       "      <th>max</th>\n",
       "      <td>90.000000</td>\n",
       "      <td>6.000000</td>\n",
       "      <td>15.000000</td>\n",
       "      <td>6.000000</td>\n",
       "      <td>13.000000</td>\n",
       "      <td>5.000000</td>\n",
       "      <td>4.000000</td>\n",
       "      <td>1.000000</td>\n",
       "      <td>99999.000000</td>\n",
       "      <td>2824.000000</td>\n",
       "      <td>99.000000</td>\n",
       "      <td>38.000000</td>\n",
       "      <td>1.000000</td>\n",
       "    </tr>\n",
       "  </tbody>\n",
       "</table>\n",
       "</div>"
      ],
      "text/plain": [
       "               age    workclass  educationno  maritalstatus   occupation  \\\n",
       "count  4406.000000  4406.000000  4406.000000    4406.000000  4406.000000   \n",
       "mean     38.483205     2.204948     9.073082       2.574898     6.080118   \n",
       "std      13.105044     0.959324     2.561058       1.490095     4.047861   \n",
       "min      17.000000     0.000000     0.000000       0.000000     0.000000   \n",
       "25%      28.000000     2.000000     8.000000       2.000000     3.000000   \n",
       "50%      37.000000     2.000000     9.000000       2.000000     6.000000   \n",
       "75%      47.000000     2.000000    11.000000       4.000000     9.000000   \n",
       "max      90.000000     6.000000    15.000000       6.000000    13.000000   \n",
       "\n",
       "       relationship         race          sex   capitalgain  capitalloss  \\\n",
       "count   4406.000000  4406.000000  4406.000000   4406.000000  4406.000000   \n",
       "mean       1.388107     3.684975     0.687699    852.288470    97.110758   \n",
       "std        1.576382     0.827005     0.463485   5903.346426   421.219274   \n",
       "min        0.000000     0.000000     0.000000      0.000000     0.000000   \n",
       "25%        0.000000     4.000000     0.000000      0.000000     0.000000   \n",
       "50%        1.000000     4.000000     1.000000      0.000000     0.000000   \n",
       "75%        3.000000     4.000000     1.000000      0.000000     0.000000   \n",
       "max        5.000000     4.000000     1.000000  99999.000000  2824.000000   \n",
       "\n",
       "       hoursperweek       native       Salary  \n",
       "count   4406.000000  4406.000000  4406.000000  \n",
       "mean      41.041761    34.628234     0.252610  \n",
       "std       11.769546     5.356932     0.434558  \n",
       "min        1.000000     0.000000     0.000000  \n",
       "25%       40.000000    36.000000     0.000000  \n",
       "50%       40.000000    36.000000     0.000000  \n",
       "75%       45.000000    36.000000     1.000000  \n",
       "max       99.000000    38.000000     1.000000  "
      ]
     },
     "execution_count": 41,
     "metadata": {},
     "output_type": "execute_result"
    }
   ],
   "source": [
    "df_split.describe()"
   ]
  },
  {
   "cell_type": "code",
   "execution_count": 42,
   "id": "59bcfd24",
   "metadata": {
    "ExecuteTime": {
     "end_time": "2022-09-14T03:35:46.037885Z",
     "start_time": "2022-09-14T03:35:46.015555Z"
    }
   },
   "outputs": [
    {
     "name": "stdout",
     "output_type": "stream",
     "text": [
      "<class 'pandas.core.frame.DataFrame'>\n",
      "Int64Index: 4406 entries, 10246 to 20177\n",
      "Data columns (total 13 columns):\n",
      " #   Column         Non-Null Count  Dtype\n",
      "---  ------         --------------  -----\n",
      " 0   age            4406 non-null   int8 \n",
      " 1   workclass      4406 non-null   int8 \n",
      " 2   educationno    4406 non-null   int8 \n",
      " 3   maritalstatus  4406 non-null   int8 \n",
      " 4   occupation     4406 non-null   int8 \n",
      " 5   relationship   4406 non-null   int8 \n",
      " 6   race           4406 non-null   int8 \n",
      " 7   sex            4406 non-null   int8 \n",
      " 8   capitalgain    4406 non-null   int32\n",
      " 9   capitalloss    4406 non-null   int16\n",
      " 10  hoursperweek   4406 non-null   int8 \n",
      " 11  native         4406 non-null   int8 \n",
      " 12  Salary         4406 non-null   int8 \n",
      "dtypes: int16(1), int32(1), int8(11)\n",
      "memory usage: 236.6 KB\n"
     ]
    }
   ],
   "source": [
    "df_split.info(memory_usage='deep')"
   ]
  },
  {
   "cell_type": "code",
   "execution_count": 43,
   "id": "ce0c3bf5",
   "metadata": {
    "ExecuteTime": {
     "end_time": "2022-09-14T03:35:49.572348Z",
     "start_time": "2022-09-14T03:35:49.566038Z"
    }
   },
   "outputs": [],
   "source": [
    "array = df_split.values\n",
    "X = array[:,0:12]\n",
    "Y = array[:,12]"
   ]
  },
  {
   "cell_type": "code",
   "execution_count": 44,
   "id": "144476dd",
   "metadata": {
    "ExecuteTime": {
     "end_time": "2022-09-14T03:35:52.648531Z",
     "start_time": "2022-09-14T03:35:52.625369Z"
    }
   },
   "outputs": [
    {
     "data": {
      "text/html": [
       "<div>\n",
       "<style scoped>\n",
       "    .dataframe tbody tr th:only-of-type {\n",
       "        vertical-align: middle;\n",
       "    }\n",
       "\n",
       "    .dataframe tbody tr th {\n",
       "        vertical-align: top;\n",
       "    }\n",
       "\n",
       "    .dataframe thead th {\n",
       "        text-align: right;\n",
       "    }\n",
       "</style>\n",
       "<table border=\"1\" class=\"dataframe\">\n",
       "  <thead>\n",
       "    <tr style=\"text-align: right;\">\n",
       "      <th></th>\n",
       "      <th>age</th>\n",
       "      <th>workclass</th>\n",
       "      <th>educationno</th>\n",
       "      <th>maritalstatus</th>\n",
       "      <th>occupation</th>\n",
       "      <th>relationship</th>\n",
       "      <th>race</th>\n",
       "      <th>sex</th>\n",
       "      <th>capitalgain</th>\n",
       "      <th>capitalloss</th>\n",
       "      <th>hoursperweek</th>\n",
       "      <th>native</th>\n",
       "      <th>Salary</th>\n",
       "    </tr>\n",
       "  </thead>\n",
       "  <tbody>\n",
       "    <tr>\n",
       "      <th>10246</th>\n",
       "      <td>49</td>\n",
       "      <td>1</td>\n",
       "      <td>11</td>\n",
       "      <td>2</td>\n",
       "      <td>0</td>\n",
       "      <td>0</td>\n",
       "      <td>4</td>\n",
       "      <td>1</td>\n",
       "      <td>0</td>\n",
       "      <td>0</td>\n",
       "      <td>40</td>\n",
       "      <td>36</td>\n",
       "      <td>0</td>\n",
       "    </tr>\n",
       "    <tr>\n",
       "      <th>9865</th>\n",
       "      <td>40</td>\n",
       "      <td>2</td>\n",
       "      <td>13</td>\n",
       "      <td>2</td>\n",
       "      <td>3</td>\n",
       "      <td>0</td>\n",
       "      <td>4</td>\n",
       "      <td>1</td>\n",
       "      <td>15024</td>\n",
       "      <td>0</td>\n",
       "      <td>50</td>\n",
       "      <td>36</td>\n",
       "      <td>1</td>\n",
       "    </tr>\n",
       "    <tr>\n",
       "      <th>6569</th>\n",
       "      <td>25</td>\n",
       "      <td>2</td>\n",
       "      <td>11</td>\n",
       "      <td>4</td>\n",
       "      <td>11</td>\n",
       "      <td>1</td>\n",
       "      <td>4</td>\n",
       "      <td>1</td>\n",
       "      <td>0</td>\n",
       "      <td>0</td>\n",
       "      <td>48</td>\n",
       "      <td>36</td>\n",
       "      <td>0</td>\n",
       "    </tr>\n",
       "    <tr>\n",
       "      <th>7887</th>\n",
       "      <td>19</td>\n",
       "      <td>2</td>\n",
       "      <td>9</td>\n",
       "      <td>3</td>\n",
       "      <td>11</td>\n",
       "      <td>3</td>\n",
       "      <td>4</td>\n",
       "      <td>0</td>\n",
       "      <td>0</td>\n",
       "      <td>1602</td>\n",
       "      <td>40</td>\n",
       "      <td>36</td>\n",
       "      <td>0</td>\n",
       "    </tr>\n",
       "    <tr>\n",
       "      <th>14236</th>\n",
       "      <td>29</td>\n",
       "      <td>2</td>\n",
       "      <td>8</td>\n",
       "      <td>4</td>\n",
       "      <td>3</td>\n",
       "      <td>1</td>\n",
       "      <td>4</td>\n",
       "      <td>1</td>\n",
       "      <td>0</td>\n",
       "      <td>0</td>\n",
       "      <td>50</td>\n",
       "      <td>24</td>\n",
       "      <td>0</td>\n",
       "    </tr>\n",
       "  </tbody>\n",
       "</table>\n",
       "</div>"
      ],
      "text/plain": [
       "       age  workclass  educationno  maritalstatus  occupation  relationship  \\\n",
       "10246   49          1           11              2           0             0   \n",
       "9865    40          2           13              2           3             0   \n",
       "6569    25          2           11              4          11             1   \n",
       "7887    19          2            9              3          11             3   \n",
       "14236   29          2            8              4           3             1   \n",
       "\n",
       "       race  sex  capitalgain  capitalloss  hoursperweek  native  Salary  \n",
       "10246     4    1            0            0            40      36       0  \n",
       "9865      4    1        15024            0            50      36       1  \n",
       "6569      4    1            0            0            48      36       0  \n",
       "7887      4    0            0         1602            40      36       0  \n",
       "14236     4    1            0            0            50      24       0  "
      ]
     },
     "execution_count": 44,
     "metadata": {},
     "output_type": "execute_result"
    }
   ],
   "source": [
    "df_split.head()"
   ]
  },
  {
   "cell_type": "code",
   "execution_count": 45,
   "id": "ac4db8d6",
   "metadata": {
    "ExecuteTime": {
     "end_time": "2022-09-14T03:35:54.891656Z",
     "start_time": "2022-09-14T03:35:54.876990Z"
    }
   },
   "outputs": [],
   "source": [
    "from numpy import set_printoptions\n",
    "from sklearn.feature_selection import SelectKBest\n",
    "from sklearn.feature_selection import chi2,f_regression"
   ]
  },
  {
   "cell_type": "code",
   "execution_count": 46,
   "id": "63b4ee37",
   "metadata": {
    "ExecuteTime": {
     "end_time": "2022-09-14T03:35:57.083584Z",
     "start_time": "2022-09-14T03:35:57.061956Z"
    }
   },
   "outputs": [
    {
     "name": "stdout",
     "output_type": "stream",
     "text": [
      "[1.160e+03 9.196e-03 3.395e+02 1.366e+02 7.694e+01 6.390e+02 7.109e+00\n",
      " 7.975e+01 7.439e+06 1.900e+05 8.766e+02 2.915e+00]\n"
     ]
    }
   ],
   "source": [
    "## Feature Extraction\n",
    "model=SelectKBest(score_func=chi2,k=3)\n",
    "fit_model=model.fit(X,Y)\n",
    "##Summarize scores\n",
    "set_printoptions(precision=3)\n",
    "print(fit_model.scores_)\n",
    "features=fit_model.transform(X)\n",
    "names=['age','workclass','educationno','maritalstatus','occupation','relationship','race','sex','capitalgain','capitalloss','hoursperweek','native','Salary']"
   ]
  },
  {
   "cell_type": "code",
   "execution_count": 47,
   "id": "bdb59567",
   "metadata": {
    "ExecuteTime": {
     "end_time": "2022-09-14T03:35:59.980921Z",
     "start_time": "2022-09-14T03:35:59.964211Z"
    }
   },
   "outputs": [
    {
     "data": {
      "text/plain": [
       "age              1.159782e+03\n",
       "workclass        9.195757e-03\n",
       "educationno      3.394695e+02\n",
       "maritalstatus    1.365744e+02\n",
       "occupation       7.694426e+01\n",
       "relationship     6.389748e+02\n",
       "race             7.109349e+00\n",
       "sex              7.974937e+01\n",
       "capitalgain      7.439490e+06\n",
       "capitalloss      1.899664e+05\n",
       "hoursperweek     8.765744e+02\n",
       "native           2.915077e+00\n",
       "dtype: float64"
      ]
     },
     "execution_count": 47,
     "metadata": {},
     "output_type": "execute_result"
    }
   ],
   "source": [
    "scores=pd.Series(data=fit_model.scores_,index=names[:-1])\n",
    "scores"
   ]
  },
  {
   "cell_type": "code",
   "execution_count": 48,
   "id": "40220d89",
   "metadata": {
    "ExecuteTime": {
     "end_time": "2022-09-14T03:36:02.683146Z",
     "start_time": "2022-09-14T03:36:02.666346Z"
    }
   },
   "outputs": [
    {
     "data": {
      "text/plain": [
       "capitalgain      7.439490e+06\n",
       "capitalloss      1.899664e+05\n",
       "age              1.159782e+03\n",
       "hoursperweek     8.765744e+02\n",
       "relationship     6.389748e+02\n",
       "educationno      3.394695e+02\n",
       "maritalstatus    1.365744e+02\n",
       "sex              7.974937e+01\n",
       "occupation       7.694426e+01\n",
       "race             7.109349e+00\n",
       "native           2.915077e+00\n",
       "workclass        9.195757e-03\n",
       "dtype: float64"
      ]
     },
     "execution_count": 48,
     "metadata": {},
     "output_type": "execute_result"
    }
   ],
   "source": [
    "scores.sort_values(ascending=False)"
   ]
  },
  {
   "cell_type": "code",
   "execution_count": 49,
   "id": "54ce238d",
   "metadata": {
    "ExecuteTime": {
     "end_time": "2022-09-14T03:36:05.943922Z",
     "start_time": "2022-09-14T03:36:05.936149Z"
    }
   },
   "outputs": [
    {
     "data": {
      "text/plain": [
       "array([ True, False, False, False, False, False, False, False,  True,\n",
       "        True, False, False])"
      ]
     },
     "execution_count": 49,
     "metadata": {},
     "output_type": "execute_result"
    }
   ],
   "source": [
    "features=model.get_support() # it tells which are the good features\n",
    "features"
   ]
  },
  {
   "cell_type": "code",
   "execution_count": 50,
   "id": "cd12e591",
   "metadata": {
    "ExecuteTime": {
     "end_time": "2022-09-14T03:36:09.582855Z",
     "start_time": "2022-09-14T03:36:09.569944Z"
    }
   },
   "outputs": [],
   "source": [
    "influencial_features=['capitalgain','capitalloss','age','hoursperweek','occupation','race']"
   ]
  },
  {
   "cell_type": "code",
   "execution_count": 51,
   "id": "827adc81",
   "metadata": {
    "ExecuteTime": {
     "end_time": "2022-09-14T03:36:12.209545Z",
     "start_time": "2022-09-14T03:36:11.747453Z"
    }
   },
   "outputs": [
    {
     "data": {
      "image/png": "[encoded data removed]",
      "text/plain": [
       "<Figure size 432x288 with 2 Axes>"
      ]
     },
     "metadata": {
      "needs_background": "light"
     },
     "output_type": "display_data"
    }
   ],
   "source": [
    "sns.heatmap(df_split[influencial_features].corr(),annot=True);"
   ]
  },
  {
   "cell_type": "code",
   "execution_count": 52,
   "id": "18fc0cb9",
   "metadata": {
    "ExecuteTime": {
     "end_time": "2022-09-14T03:36:15.339047Z",
     "start_time": "2022-09-14T03:36:15.000290Z"
    }
   },
   "outputs": [
    {
     "data": {
      "text/plain": [
       "<matplotlib.collections.PathCollection at 0x1e0b737f4c0>"
      ]
     },
     "execution_count": 52,
     "metadata": {},
     "output_type": "execute_result"
    },
    {
     "data": {
      "image/png": "[encoded data removed]",
      "text/plain": [
       "<Figure size 432x288 with 1 Axes>"
      ]
     },
     "metadata": {
      "needs_background": "light"
     },
     "output_type": "display_data"
    }
   ],
   "source": [
    "import matplotlib.pyplot as plt\n",
    "plt.scatter(df_split[\"occupation\"],df_split[\"educationno\"],c=df_split[\"hoursperweek\"])"
   ]
  },
  {
   "cell_type": "code",
   "execution_count": 53,
   "id": "d406e15f",
   "metadata": {
    "ExecuteTime": {
     "end_time": "2022-09-14T03:36:17.724967Z",
     "start_time": "2022-09-14T03:36:17.707384Z"
    }
   },
   "outputs": [],
   "source": [
    "X_train, X_test, y_train, y_test = train_test_split(X,Y, test_size = 0.2,random_state=15)"
   ]
  },
  {
   "cell_type": "code",
   "execution_count": 54,
   "id": "b9888edd",
   "metadata": {
    "ExecuteTime": {
     "end_time": "2022-09-14T03:36:20.146769Z",
     "start_time": "2022-09-14T03:36:20.130826Z"
    }
   },
   "outputs": [
    {
     "data": {
      "text/plain": [
       "((3524, 12), (3524,), (882, 12), (882,))"
      ]
     },
     "execution_count": 54,
     "metadata": {},
     "output_type": "execute_result"
    }
   ],
   "source": [
    "X_train.shape, y_train.shape, X_test.shape, y_test.shape"
   ]
  },
  {
   "cell_type": "markdown",
   "id": "2504a990",
   "metadata": {},
   "source": [
    "## Grid Search cv"
   ]
  },
  {
   "cell_type": "code",
   "execution_count": 55,
   "id": "d40b21c9",
   "metadata": {
    "ExecuteTime": {
     "end_time": "2022-09-14T03:44:17.054809Z",
     "start_time": "2022-09-14T03:36:21.950456Z"
    }
   },
   "outputs": [
    {
     "data": {
      "text/plain": [
       "GridSearchCV(cv=10, estimator=SVC(),\n",
       "             param_grid=[{'C': [15, 14, 13, 12, 11, 10, 0.1, 0.001],\n",
       "                          'gamma': [50, 5, 10, 0.5], 'kernel': ['rbf']}])"
      ]
     },
     "execution_count": 55,
     "metadata": {},
     "output_type": "execute_result"
    }
   ],
   "source": [
    "# Taking test data to check the model as the data is large\n",
    "clf = SVC()\n",
    "param_grid = [{'kernel':['rbf'],'gamma':[50,5,10,0.5],'C':[15,14,13,12,11,10,0.1,0.001] }]\n",
    "gsv = GridSearchCV(clf,param_grid,cv=10)\n",
    "gsv.fit(X_train,y_train)\n"
   ]
  },
  {
   "cell_type": "code",
   "execution_count": 56,
   "id": "c791612a",
   "metadata": {
    "ExecuteTime": {
     "end_time": "2022-09-14T03:44:17.076011Z",
     "start_time": "2022-09-14T03:44:17.057355Z"
    }
   },
   "outputs": [
    {
     "data": {
      "text/plain": [
       "({'C': 15, 'gamma': 0.5, 'kernel': 'rbf'}, 0.754827935874324)"
      ]
     },
     "execution_count": 56,
     "metadata": {},
     "output_type": "execute_result"
    }
   ],
   "source": [
    "gsv.best_params_ , gsv.best_score_ "
   ]
  },
  {
   "cell_type": "code",
   "execution_count": 57,
   "id": "e426f4b7",
   "metadata": {
    "ExecuteTime": {
     "end_time": "2022-09-14T03:44:19.529014Z",
     "start_time": "2022-09-14T03:44:17.078105Z"
    }
   },
   "outputs": [
    {
     "name": "stdout",
     "output_type": "stream",
     "text": [
      "Accuracy = 74.94331065759637\n"
     ]
    },
    {
     "data": {
      "text/plain": [
       "array([[661,   9],\n",
       "       [212,   0]], dtype=int64)"
      ]
     },
     "execution_count": 57,
     "metadata": {},
     "output_type": "execute_result"
    }
   ],
   "source": [
    "clf = SVC(C= 15, gamma = 50)\n",
    "clf.fit(X_train , y_train)\n",
    "y_pred = clf.predict(X_test)\n",
    "acc = accuracy_score(y_test, y_pred) * 100\n",
    "print(\"Accuracy =\", acc)\n",
    "confusion_matrix(y_test, y_pred)"
   ]
  },
  {
   "cell_type": "code",
   "execution_count": 58,
   "id": "bde1b988",
   "metadata": {
    "ExecuteTime": {
     "end_time": "2022-09-14T03:54:57.605751Z",
     "start_time": "2022-09-14T03:44:19.532216Z"
    }
   },
   "outputs": [
    {
     "name": "stdout",
     "output_type": "stream",
     "text": [
      "Accuracy = 81.06575963718821\n"
     ]
    },
    {
     "data": {
      "text/plain": [
       "array([[602,  68],\n",
       "       [ 99, 113]], dtype=int64)"
      ]
     },
     "execution_count": 58,
     "metadata": {},
     "output_type": "execute_result"
    }
   ],
   "source": [
    "clf = SVC(kernel= \"linear\") \n",
    "clf.fit(X_train , y_train)\n",
    "y_pred = clf.predict(X_test)\n",
    "acc = accuracy_score(y_test, y_pred) * 100\n",
    "print(\"Accuracy =\", acc)\n",
    "confusion_matrix(y_test, y_pred)   \n"
   ]
  },
  {
   "cell_type": "markdown",
   "id": "e48be84a",
   "metadata": {},
   "source": [
    "## From the above analysis, we can understand that the data is linearly separable, hence linear kernel gives us a better result.\n"
   ]
  }
 ],
 "metadata": {
  "kernelspec": {
   "display_name": "Python 3 (ipykernel)",
   "language": "python",
   "name": "python3"
  },
  "language_info": {
   "codemirror_mode": {
    "name": "ipython",
    "version": 3
   },
   "file_extension": ".py",
   "mimetype": "text/x-python",
   "name": "python",
   "nbconvert_exporter": "python",
   "pygments_lexer": "ipython3",
   "version": "3.9.7"
  }
 },
 "nbformat": 4,
 "nbformat_minor": 5
}
